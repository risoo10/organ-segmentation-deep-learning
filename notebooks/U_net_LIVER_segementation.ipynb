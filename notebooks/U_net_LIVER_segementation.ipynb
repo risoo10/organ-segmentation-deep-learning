{
 "cells": [
  {
   "cell_type": "markdown",
   "metadata": {
    "colab_type": "text",
    "id": "uY1ubu72FTNU"
   },
   "source": [
    "# U-net MODEL for liver segmentation from CT images"
   ]
  },
  {
   "cell_type": "code",
   "execution_count": 1,
   "metadata": {
    "colab": {},
    "colab_type": "code",
    "id": "LnAxLgiRFlmK"
   },
   "outputs": [
    {
     "ename": "ModuleNotFoundError",
     "evalue": "No module named 'google.colab'",
     "output_type": "error",
     "traceback": [
      "\u001b[1;31m---------------------------------------------------------------------------\u001b[0m",
      "\u001b[1;31mModuleNotFoundError\u001b[0m                       Traceback (most recent call last)",
      "\u001b[1;32m<ipython-input-1-d5df0069828e>\u001b[0m in \u001b[0;36m<module>\u001b[1;34m\u001b[0m\n\u001b[1;32m----> 1\u001b[1;33m \u001b[1;32mfrom\u001b[0m \u001b[0mgoogle\u001b[0m\u001b[1;33m.\u001b[0m\u001b[0mcolab\u001b[0m \u001b[1;32mimport\u001b[0m \u001b[0mdrive\u001b[0m\u001b[1;33m\u001b[0m\u001b[1;33m\u001b[0m\u001b[0m\n\u001b[0m\u001b[0;32m      2\u001b[0m \u001b[0mdrive\u001b[0m\u001b[1;33m.\u001b[0m\u001b[0mmount\u001b[0m\u001b[1;33m(\u001b[0m\u001b[1;34m'/content/drive'\u001b[0m\u001b[1;33m)\u001b[0m\u001b[1;33m\u001b[0m\u001b[1;33m\u001b[0m\u001b[0m\n",
      "\u001b[1;31mModuleNotFoundError\u001b[0m: No module named 'google.colab'"
     ]
    }
   ],
   "source": [
    "from google.colab import drive\n",
    "drive.mount('/content/drive')"
   ]
  },
  {
   "cell_type": "code",
   "execution_count": null,
   "metadata": {
    "colab": {},
    "colab_type": "code",
    "id": "rq9nmgi3LBwg"
   },
   "outputs": [],
   "source": [
    "!pip install pydicom SimpleITK tensorboardcolab albumentations scikit-image medpy"
   ]
  },
  {
   "cell_type": "markdown",
   "metadata": {
    "colab_type": "text",
    "id": "YGHiTfl2h86S"
   },
   "source": [
    "### Import dependecies and setup main directory to google drive directory "
   ]
  },
  {
   "cell_type": "code",
   "execution_count": 3,
   "metadata": {
    "colab": {},
    "colab_type": "code",
    "id": "Pmdcc-IYFxfJ"
   },
   "outputs": [],
   "source": [
    "import os\n",
    "import random\n",
    "import pydicom\n",
    "import numpy as np\n",
    "import cv2\n",
    "from tqdm import tqdm\n",
    "import SimpleITK as sitk\n",
    "import matplotlib.pyplot as plt\n",
    "import pickle\n",
    "from skimage import feature\n",
    "import tables\n",
    "from functools import partial\n",
    "from albumentations import (\n",
    "    Compose, HorizontalFlip, VerticalFlip, ShiftScaleRotate\n",
    ")"
   ]
  },
  {
   "cell_type": "code",
   "execution_count": 5,
   "metadata": {},
   "outputs": [],
   "source": [
    "main_dir = '..'\n",
    "data_dir = f'{main_dir}/data'\n",
    "COLUMNS, ROWS = 512, 512"
   ]
  },
  {
   "cell_type": "code",
   "execution_count": null,
   "metadata": {
    "colab": {},
    "colab_type": "code",
    "id": "b1Q109MsF0Ji"
   },
   "outputs": [],
   "source": [
    "COLUMNS, ROWS = 512, 512\n",
    "main_dir = '/content/drive/My Drive/DP - Prototype'\n",
    "data_dir = f'{main_dir}/data'"
   ]
  },
  {
   "cell_type": "markdown",
   "metadata": {
    "colab_type": "text",
    "id": "yQcOFJX2lLct"
   },
   "source": [
    "## Open HDF file\n",
    "HDF allow to read file in baches from disc during the training phase instead of reading all data to RAM at once. "
   ]
  },
  {
   "cell_type": "code",
   "execution_count": 6,
   "metadata": {
    "colab": {},
    "colab_type": "code",
    "id": "Eat-8bb4lK58"
   },
   "outputs": [
    {
     "name": "stdout",
     "output_type": "stream",
     "text": [
      "../CT-train.h5 (File) ''\n",
      "Last modif.: 'Thu May  2 22:07:32 2019'\n",
      "Object Tree: \n",
      "/ (RootGroup) ''\n",
      "/x (CArray(2874, 512, 512), shuffle, blosc(5)) ''\n",
      "/y (CArray(2874, 512, 512), shuffle, blosc(5)) ''\n",
      "\n"
     ]
    }
   ],
   "source": [
    "train_file = tables.open_file(f'{main_dir}/CT-train.h5', mode=\"r\")\n",
    "print(train_file)"
   ]
  },
  {
   "cell_type": "code",
   "execution_count": 7,
   "metadata": {
    "colab": {},
    "colab_type": "code",
    "id": "QRwMcZHdlmNO"
   },
   "outputs": [],
   "source": [
    "x_train = train_file.get_node('/x')\n",
    "y_train = train_file.get_node('/y')"
   ]
  },
  {
   "cell_type": "code",
   "execution_count": 8,
   "metadata": {
    "colab": {},
    "colab_type": "code",
    "id": "7bph7u6HSd6c"
   },
   "outputs": [],
   "source": [
    "OPEN_MODEL = 'unet-REG-50-CROSSENTROPY-AUGM'"
   ]
  },
  {
   "cell_type": "markdown",
   "metadata": {
    "colab_type": "text",
    "id": "cG2wcsxGFnGW"
   },
   "source": [
    "### Plot slices"
   ]
  },
  {
   "cell_type": "code",
   "execution_count": null,
   "metadata": {
    "colab": {},
    "colab_type": "code",
    "id": "uVe6XEsjlqLr"
   },
   "outputs": [],
   "source": [
    "def plot_slice(x, y):\n",
    "  counter = 1\n",
    "  if len(x.shape) > 2:\n",
    "    length = x.shape[2] + 1\n",
    "  else:\n",
    "    length = 2\n",
    "  \n",
    "  figure = plt.figure(figsize=(20, 20))\n",
    "  if len(x.shape) > 2 and x.shape[2] == 2:\n",
    "    plt.subplot(1, length, counter) \n",
    "    plt.imshow(np.nan_to_num(x[:, :, 0]), cmap=\"bone\")\n",
    "    counter += 1\n",
    "  \n",
    "    plt.subplot(1, length, counter) \n",
    "    plt.imshow(np.nan_to_num(x[:, :, 1]), cmap=\"bone\")\n",
    "    counter += 1\n",
    "    \n",
    "  else:\n",
    "    if len(y.shape) > 2:\n",
    "      plt.subplot(1, length, counter) \n",
    "      plt.imshow(np.nan_to_num(x[:, :, 0]), cmap=\"bone\")\n",
    "      counter += 1\n",
    "    else:\n",
    "      plt.subplot(1, length, counter) \n",
    "      plt.imshow(np.nan_to_num(x), cmap=\"bone\")\n",
    "      counter += 1\n",
    "    \n",
    "  \n",
    "  if len(y.shape) > 2:\n",
    "    plt.subplot(1, length, counter)\n",
    "    plt.imshow(np.nan_to_num(y[:, :, 0]), cmap=\"bone\")\n",
    "   \n",
    "  else:\n",
    "    plt.subplot(1, length, counter)\n",
    "    plt.imshow(np.nan_to_num(y), cmap=\"bone\")\n",
    "  \n",
    "  plt.show()"
   ]
  },
  {
   "cell_type": "code",
   "execution_count": null,
   "metadata": {
    "colab": {},
    "colab_type": "code",
    "id": "cDgryICiFVTM"
   },
   "outputs": [],
   "source": [
    "slice_n = 5\n",
    "\n",
    "y = y_train[slice_n]\n",
    "\n",
    "\n",
    "dt = distance_transform_weight(y)\n",
    "plt.imshow(dt)\n",
    "plt.colorbar()\n",
    "# plot_slice(dt / 255, y_train[slice_n])"
   ]
  },
  {
   "cell_type": "markdown",
   "metadata": {
    "colab_type": "text",
    "id": "6RzAG9luxuxT"
   },
   "source": [
    "#### Image plots\n"
   ]
  },
  {
   "cell_type": "code",
   "execution_count": null,
   "metadata": {
    "colab": {},
    "colab_type": "code",
    "id": "X4E_4DQa_DSX"
   },
   "outputs": [],
   "source": [
    "fig = plt.figure(figsize=(15,15))\n",
    "\n",
    "for num in range(1,26):\n",
    "    ax = fig.add_subplot(5,5,num)\n",
    "    plt.imshow(x_train[num].reshape((COLUMNS, ROWS)), cmap=\"bone\")\n",
    "\n",
    "plt.tight_layout()\n",
    "plt.show()"
   ]
  },
  {
   "cell_type": "code",
   "execution_count": null,
   "metadata": {
    "colab": {},
    "colab_type": "code",
    "id": "QtR1F6pYFGWq"
   },
   "outputs": [],
   "source": [
    "fig = plt.figure(figsize=(15,15))\n",
    "\n",
    "for num in range(1,26):\n",
    "    ax = fig.add_subplot(5,5,num)\n",
    "    plt.imshow(y_train[num].reshape((COLUMNS, ROWS)), cmap=\"bone\")\n",
    "\n",
    "plt.tight_layout()\n",
    "plt.show()"
   ]
  },
  {
   "cell_type": "markdown",
   "metadata": {
    "colab_type": "text",
    "id": "4u2QHDebxzGt"
   },
   "source": [
    "## Utils\n",
    "We define set of helper functions which includes metrics, generator or local binary patterns operation."
   ]
  },
  {
   "cell_type": "code",
   "execution_count": 11,
   "metadata": {
    "colab": {},
    "colab_type": "code",
    "id": "GMCs8xcCo5S0"
   },
   "outputs": [
    {
     "name": "stdout",
     "output_type": "stream",
     "text": [
      "1.13.1\n",
      "False\n"
     ]
    }
   ],
   "source": [
    "import tensorflow as tf\n",
    "from tensorflow.keras.models import *\n",
    "from tensorflow.keras.layers import *\n",
    "from tensorflow.keras.optimizers import *\n",
    "from tensorflow.keras.callbacks import ModelCheckpoint\n",
    "import tensorflow.keras.backend as K\n",
    "from distutils.dir_util import copy_tree\n",
    "from sklearn.metrics import accuracy_score\n",
    "from functools import partial\n",
    "\n",
    "print(tf.VERSION)\n",
    "print(tf.test.is_gpu_available())"
   ]
  },
  {
   "cell_type": "code",
   "execution_count": 12,
   "metadata": {
    "colab": {},
    "colab_type": "code",
    "id": "yOqF3qZmHPIj"
   },
   "outputs": [],
   "source": [
    "def weighted_binary_crossentropy(y_true, y_pred, weights_input, sample_weight=None):\n",
    "  return K.mean(K.binary_crossentropy(y_true, y_pred) * weights_input)"
   ]
  },
  {
   "cell_type": "code",
   "execution_count": 13,
   "metadata": {
    "colab": {},
    "colab_type": "code",
    "id": "sfogZlzVmGNZ"
   },
   "outputs": [],
   "source": [
    "smooth = 0.000001\n",
    "def dice_coef(y_true, y_pred):\n",
    "    y_true_f = K.flatten(y_true)\n",
    "    y_pred_f = K.flatten(y_pred)\n",
    "    intersection = K.sum(y_true_f * y_pred_f)\n",
    "    return (2. * intersection + smooth) / (K.sum(y_true_f) + K.sum(y_pred_f) + smooth)\n",
    "\n",
    "\n",
    "def dice_coef_loss(y_true, y_pred):\n",
    "    return 1 - dice_coef(y_true, y_pred)"
   ]
  },
  {
   "cell_type": "code",
   "execution_count": 14,
   "metadata": {
    "colab": {},
    "colab_type": "code",
    "id": "mIrHeFg-4jxm"
   },
   "outputs": [],
   "source": [
    "def round_sigmoid(x):\n",
    "    res = K.sigmoid(x)\n",
    "    return K.relu()"
   ]
  },
  {
   "cell_type": "code",
   "execution_count": 15,
   "metadata": {
    "colab": {},
    "colab_type": "code",
    "id": "UEF-2xy1vRp3"
   },
   "outputs": [],
   "source": [
    "def get_local_binary_pattern(x):\n",
    "  res = feature.local_binary_pattern(x.copy(), 8 * 2, 4, 'default')\n",
    "#   smooth = 0.00000001\n",
    "#   res -= np.min(res) + smooth\n",
    "#   res /= np.max(res) + smooth\n",
    "#   return 1 - res\n",
    "  print(res.shape, res.dtype)\n",
    "  return res\n",
    "  "
   ]
  },
  {
   "cell_type": "code",
   "execution_count": 16,
   "metadata": {
    "colab": {},
    "colab_type": "code",
    "id": "Cm6ycOEmk3hA"
   },
   "outputs": [],
   "source": [
    "def distance_transform_weight(x):\n",
    "    x = 1 - x\n",
    "    x *= 255\n",
    "    x = x.astype(np.uint8)\n",
    "    dt = cv2.distanceTransform(x, cv2.DIST_L2, 3)\n",
    "    dt = (dt / 255)\n",
    "    return (dt / (np.max(dt) * 2)) + 1"
   ]
  },
  {
   "cell_type": "code",
   "execution_count": 30,
   "metadata": {
    "colab": {},
    "colab_type": "code",
    "id": "Asq1Y4vEo84S"
   },
   "outputs": [],
   "source": [
    "def generator(X_data, y_data, batch_size, indices, augmentation, LBP=False, weights=True):\n",
    "    indx = indices\n",
    "    samples_per_epoch = len(indx)\n",
    "    number_of_batches = samples_per_epoch / batch_size\n",
    "    counter = 0\n",
    "\n",
    "    channels = 1\n",
    "    if LBP:\n",
    "      channels = 2\n",
    "\n",
    "    while 1:\n",
    "        start = batch_size * counter\n",
    "        stop = batch_size * (counter + 1)\n",
    "        indxs = indx[start:stop]\n",
    "        shape = X_data.shape\n",
    "\n",
    "        X_batch = np.zeros((batch_size, X_data.shape[1], X_data.shape[2], 1))\n",
    "        y_batch = np.zeros((batch_size, y_data.shape[1], y_data.shape[2], 1))\n",
    "\n",
    "        if weights:\n",
    "          weights_batch = np.zeros((batch_size, y_data.shape[1], y_data.shape[2], 1))\n",
    "\n",
    "        \n",
    "        for i, idx in enumerate(indxs):\n",
    "            if augmentation is not None:\n",
    "                x = np.nan_to_num(X_data[idx])\n",
    "                y = np.nan_to_num(y_data[idx])\n",
    "                aug = augmentation(image=x, mask=y)\n",
    "                y_batch[i] = aug[\"mask\"].reshape((shape[1], shape[2], 1))\n",
    "\n",
    "                if weights:\n",
    "                  weights_batch[i] = distance_transform_weight(aug[\"mask\"])\n",
    "                  weights_batch[i] = np.nan_to_num(weights_batch[i]).reshape((shape[1], shape[2], 1))\n",
    "                \n",
    "                if LBP:\n",
    "                  lbp = get_local_binary_pattern(aug[\"image\"])\n",
    "                  X_batch[i, :, :, 0] = np.nan_to_num(lbp)\n",
    "                else:\n",
    "                  X_batch[i, :, :] = aug[\"image\"].reshape((shape[1], shape[2], 1))\n",
    "                  \n",
    "\n",
    "\n",
    "        counter += 1\n",
    "        if weights:\n",
    "          yield [X_batch.astype(np.float64), weights_batch.astype(np.float64)], y_batch.astype(np.float64)\n",
    "        else:\n",
    "          yield X_batch.astype(np.float64), y_batch.astype(np.float64)\n",
    "\n",
    "        # restart counter to yeild data in the next epoch as well\n",
    "        if counter >= number_of_batches:\n",
    "            np.random.shuffle(indx)\n",
    "            counter = 0"
   ]
  },
  {
   "cell_type": "markdown",
   "metadata": {
    "colab_type": "text",
    "id": "sYvK30GvquKB"
   },
   "source": [
    "#### Split to train and validation set\n",
    "We are using first 16 patient from the training set as train set and remaining 4 patients as validation set. Split 2302 is the first slice of the patient in validation set. "
   ]
  },
  {
   "cell_type": "code",
   "execution_count": 18,
   "metadata": {
    "colab": {},
    "colab_type": "code",
    "id": "APyXD4HQpAYx"
   },
   "outputs": [
    {
     "name": "stdout",
     "output_type": "stream",
     "text": [
      "[{'id': '1', 'slices': 96}, {'id': '10', 'slices': 110}, {'id': '14', 'slices': 95}, {'id': '16', 'slices': 91}, {'id': '18', 'slices': 111}, {'id': '19', 'slices': 90}, {'id': '2', 'slices': 81}, {'id': '21', 'slices': 257}, {'id': '22', 'slices': 101}, {'id': '23', 'slices': 240}, {'id': '24', 'slices': 123}, {'id': '25', 'slices': 235}, {'id': '26', 'slices': 114}, {'id': '27', 'slices': 242}, {'id': '28', 'slices': 102}, {'id': '29', 'slices': 214}, {'id': '30', 'slices': 266}, {'id': '5', 'slices': 95}, {'id': '6', 'slices': 88}, {'id': '8', 'slices': 123}]\n"
     ]
    }
   ],
   "source": [
    "with open(f'{main_dir}/patient_slices.pkl', 'rb') as input:\n",
    "    patient_slices = pickle.load(input)\n",
    "    print(patient_slices)"
   ]
  },
  {
   "cell_type": "code",
   "execution_count": 19,
   "metadata": {
    "colab": {},
    "colab_type": "code",
    "id": "9LTPl77MqYkC"
   },
   "outputs": [],
   "source": [
    "def sum_slices(arr):\n",
    "  return np.sum(list(map(lambda x: x[\"slices\"], arr)))"
   ]
  },
  {
   "cell_type": "code",
   "execution_count": 20,
   "metadata": {
    "colab": {},
    "colab_type": "code",
    "id": "mdtGlS8gqprr"
   },
   "outputs": [
    {
     "name": "stdout",
     "output_type": "stream",
     "text": [
      "All slices: 2874\n"
     ]
    }
   ],
   "source": [
    "## TOTAL 20 patients arond 100 slices per patient \n",
    "ALL_SIZE = sum_slices(patient_slices)\n",
    "print('All slices:', ALL_SIZE)\n",
    "\n",
    "patients_len = len(patient_slices)\n",
    "train_split = int(0.7 * patients_len)\n",
    "val_split = int(0.1 * patients_len)\n",
    "test_split = int(0.2 * patients_len)\n",
    "\n",
    "train_patients = patient_slices[:train_split] \n",
    "val_patients = patient_slices[train_split:train_split + val_split]\n",
    "test_patients = patient_slices[train_split + val_split:]\n",
    "\n",
    "indices = np.arange(ALL_SIZE)\n",
    "\n",
    "train_size = sum_slices(train_patients)\n",
    "val_size = sum_slices(val_patients)\n",
    "test_size = sum_slices(test_patients)\n",
    "\n",
    "train_ind = indices[:train_size]\n",
    "eval_ind = indices[train_size:train_size + val_size]\n",
    "test_ind = indices[train_size + val_size:]"
   ]
  },
  {
   "cell_type": "code",
   "execution_count": 21,
   "metadata": {
    "colab": {},
    "colab_type": "code",
    "id": "KF-2Pfsnr0U-"
   },
   "outputs": [
    {
     "name": "stdout",
     "output_type": "stream",
     "text": [
      "Train IND (example): [0 1 2 3 4 5 6 7 8 9] , shape: (1986,)\n",
      "Validation IND (example): [1986 1987 1988 1989 1990 1991 1992 1993 1994 1995] , shape: (316,)\n",
      "TEST IND (example): [2302 2303 2304 2305 2306 2307 2308 2309 2310 2311] , shape: (572,)\n"
     ]
    }
   ],
   "source": [
    "print(\"Train IND (example):\", train_ind[:10], ', shape:', train_ind.shape)\n",
    "print(\"Validation IND (example):\", eval_ind[:10], ', shape:', eval_ind.shape)\n",
    "print(\"TEST IND (example):\", test_ind[:10], ', shape:', test_ind.shape)"
   ]
  },
  {
   "cell_type": "markdown",
   "metadata": {
    "colab_type": "text",
    "id": "yAKwRaDrJgiW"
   },
   "source": [
    "##### Test Activation function"
   ]
  },
  {
   "cell_type": "code",
   "execution_count": 22,
   "metadata": {
    "colab": {},
    "colab_type": "code",
    "id": "vfPMTbC7Jjvv"
   },
   "outputs": [
    {
     "name": "stdout",
     "output_type": "stream",
     "text": [
      "16.118095\n"
     ]
    }
   ],
   "source": [
    "x = K.constant(np.array([[0, 0]]))\n",
    "y = K.constant(np.array([[1, 1]]))\n",
    "w = K.constant(np.array([[1, 1.0]]))\n",
    "print(K.get_value(weighted_binary_crossentropy(y, x, w)))"
   ]
  },
  {
   "cell_type": "code",
   "execution_count": null,
   "metadata": {
    "colab": {},
    "colab_type": "code",
    "id": "eysUZwYgS3kt"
   },
   "outputs": [],
   "source": [
    "x = np.array([[[0, 0], [1, 0]]])\n",
    "y = np.array([[[0, 0], [1, 0]]])\n",
    "K.get_value(K.mean(K.binary_crossentropy(K.constant(x), K.constant(y), None)))"
   ]
  },
  {
   "cell_type": "markdown",
   "metadata": {
    "colab_type": "text",
    "id": "Ne89W_aN_S0i"
   },
   "source": [
    "##### Example local binary patterns"
   ]
  },
  {
   "cell_type": "code",
   "execution_count": null,
   "metadata": {
    "colab": {},
    "colab_type": "code",
    "id": "Ofc7yoOD_eSD"
   },
   "outputs": [],
   "source": [
    "slice_n = 560\n",
    "x_slice = x_train[slice_n]\n",
    "x_lbp = get_local_binary_pattern(x_slice)\n",
    "plot_slice(x_slice, x_lbp)"
   ]
  },
  {
   "cell_type": "markdown",
   "metadata": {
    "colab_type": "text",
    "id": "PZawT9Xxp5Ti"
   },
   "source": [
    "## Train model"
   ]
  },
  {
   "cell_type": "markdown",
   "metadata": {
    "colab_type": "text",
    "id": "XNq7b5Dl_R-a"
   },
   "source": [
    "### Data Augmentation - Albumentations"
   ]
  },
  {
   "cell_type": "code",
   "execution_count": 23,
   "metadata": {
    "colab": {},
    "colab_type": "code",
    "id": "tJBWcgkm_WV-"
   },
   "outputs": [],
   "source": [
    "TRAIN_AUGMENT = Compose([\n",
    "    ShiftScaleRotate(shift_limit=0.0625, scale_limit=0.1, rotate_limit=8, border_mode=cv2.BORDER_CONSTANT, p=0.8),\n",
    "])"
   ]
  },
  {
   "cell_type": "markdown",
   "metadata": {
    "colab_type": "text",
    "id": "SFG03Y7vFVKh"
   },
   "source": [
    "### Model\n",
    "\n",
    "Keras implementation of U-net was originaly posted [here](https://github.com/zhixuhao/unet/blob/master/model.py). Code was modified as we were experimenting with number of filters in the network."
   ]
  },
  {
   "cell_type": "code",
   "execution_count": 24,
   "metadata": {
    "colab": {},
    "colab_type": "code",
    "id": "3Js6t8ytE_ae"
   },
   "outputs": [],
   "source": [
    "def u_net(input_shape, distance_transform=False):\n",
    "\n",
    "    weighted_loss = '_'\n",
    "\n",
    "    inputs = Input(input_shape)\n",
    "    conv1 = Conv2D(32, 3, activation = 'relu', padding = 'same')(inputs)\n",
    "    conv1 = Conv2D(32, 3, activation = 'relu', padding = 'same')(conv1)\n",
    "    pool1 = MaxPooling2D(pool_size=(2, 2))(conv1)\n",
    "    conv2 = Conv2D(64, 3, activation = 'relu', padding = 'same')(pool1)\n",
    "    conv2 = Conv2D(64, 3, activation = 'relu', padding = 'same')(conv2)\n",
    "    pool2 = MaxPooling2D(pool_size=(2, 2))(conv2)\n",
    "    conv3 = Conv2D(128, 3, activation = 'relu', padding = 'same')(pool2)\n",
    "    conv3 = Conv2D(128, 3, activation = 'relu', padding = 'same')(conv3)\n",
    "    pool3 = MaxPooling2D(pool_size=(2, 2))(conv3)\n",
    "    conv4 = Conv2D(256, 3, activation = 'relu', padding = 'same')(pool3)\n",
    "    conv4 = Conv2D(256, 3, activation = 'relu', padding = 'same')(conv4)\n",
    "    drop4 = Dropout(0.5)(conv4)\n",
    "\n",
    "    up7 = Conv2D(128, 2, activation = 'relu', padding = 'same')(UpSampling2D(size = (2,2))(drop4))\n",
    "    merge7 = concatenate([conv3,up7], axis = 3)\n",
    "    conv7 = Conv2D(128, 3, activation = 'relu', padding = 'same')(merge7)\n",
    "    conv7 = Conv2D(128, 3, activation = 'relu', padding = 'same')(conv7)\n",
    "\n",
    "    up8 = Conv2D(64, 2, activation = 'relu', padding = 'same')(UpSampling2D(size = (2,2))(conv7))\n",
    "    merge8 = concatenate([conv2,up8], axis = 3)\n",
    "    conv8 = Conv2D(64, 3, activation = 'relu', padding = 'same')(merge8)\n",
    "    conv8 = Conv2D(64, 3, activation = 'relu', padding = 'same')(conv8)\n",
    "\n",
    "    up9 = Conv2D(32, 2, activation = 'relu', padding = 'same')(UpSampling2D(size = (2,2))(conv8))\n",
    "    merge9 = concatenate([conv1,up9], axis = 3)\n",
    "    conv9 = Conv2D(32, 3, activation = 'relu', padding = 'same')(merge9)\n",
    "    conv9 = Conv2D(32, 3, activation = 'relu', padding = 'same')(conv9)\n",
    "    conv9 = Conv2D(2, 3, activation = 'relu', padding = 'same')(conv9)\n",
    "    conv10 = Conv2D(1, 1, activation = 'sigmoid')(conv9)\n",
    "\n",
    "    if distance_transform:\n",
    "      weights_in = Input(input_shape)\n",
    "      weighted_loss = partial(weighted_binary_crossentropy, weights_input=weights_in)\n",
    "      model = Model(inputs=[inputs, weights_in], outputs=conv10)\n",
    "      model.compile(optimizer=Adam(lr=1e-4), loss=weighted_loss, metrics=['accuracy', dice_coef])\n",
    "    else:\n",
    "      model = Model(inputs=inputs, outputs=conv10)\n",
    "      model.compile(optimizer=Adam(lr=1e-4), loss=\"binary_crossentropy\", metrics=['accuracy', dice_coef])\n",
    "    \n",
    "    ## model.summary()\n",
    "\n",
    "    return model, weighted_loss\n"
   ]
  },
  {
   "cell_type": "code",
   "execution_count": 28,
   "metadata": {
    "colab": {},
    "colab_type": "code",
    "id": "d5EIJ9ueFW2M"
   },
   "outputs": [
    {
     "name": "stdout",
     "output_type": "stream",
     "text": [
      "Using: unet-REG-50-CROSSENTROPY-AUGM-WEIGHTS\n",
      "Epoch 1/50\n"
     ]
    },
    {
     "ename": "KeyboardInterrupt",
     "evalue": "",
     "output_type": "error",
     "traceback": [
      "\u001b[1;31m---------------------------------------------------------------------------\u001b[0m",
      "\u001b[1;31mKeyboardInterrupt\u001b[0m                         Traceback (most recent call last)",
      "\u001b[1;32m<ipython-input-28-5f3e99b76727>\u001b[0m in \u001b[0;36m<module>\u001b[1;34m\u001b[0m\n\u001b[0;32m     29\u001b[0m     \u001b[0mvalidation_data\u001b[0m\u001b[1;33m=\u001b[0m\u001b[0meval_gen\u001b[0m\u001b[1;33m,\u001b[0m\u001b[1;33m\u001b[0m\u001b[1;33m\u001b[0m\u001b[0m\n\u001b[0;32m     30\u001b[0m     \u001b[0mvalidation_steps\u001b[0m\u001b[1;33m=\u001b[0m\u001b[0meval_ind\u001b[0m\u001b[1;33m.\u001b[0m\u001b[0mshape\u001b[0m\u001b[1;33m[\u001b[0m\u001b[1;36m0\u001b[0m\u001b[1;33m]\u001b[0m\u001b[1;33m//\u001b[0m\u001b[0mbatch_size\u001b[0m\u001b[1;33m,\u001b[0m\u001b[1;33m\u001b[0m\u001b[1;33m\u001b[0m\u001b[0m\n\u001b[1;32m---> 31\u001b[1;33m     callbacks=[model_checkpoint])\n\u001b[0m\u001b[0;32m     32\u001b[0m \u001b[1;33m\u001b[0m\u001b[0m\n\u001b[0;32m     33\u001b[0m \u001b[1;31m# Save model and tensor logs\u001b[0m\u001b[1;33m\u001b[0m\u001b[1;33m\u001b[0m\u001b[1;33m\u001b[0m\u001b[0m\n",
      "\u001b[1;32mc:\\users\\richard\\appdata\\local\\programs\\python\\python37\\lib\\site-packages\\tensorflow\\python\\keras\\engine\\training.py\u001b[0m in \u001b[0;36mfit_generator\u001b[1;34m(self, generator, steps_per_epoch, epochs, verbose, callbacks, validation_data, validation_steps, class_weight, max_queue_size, workers, use_multiprocessing, shuffle, initial_epoch)\u001b[0m\n\u001b[0;32m   1424\u001b[0m         \u001b[0muse_multiprocessing\u001b[0m\u001b[1;33m=\u001b[0m\u001b[0muse_multiprocessing\u001b[0m\u001b[1;33m,\u001b[0m\u001b[1;33m\u001b[0m\u001b[1;33m\u001b[0m\u001b[0m\n\u001b[0;32m   1425\u001b[0m         \u001b[0mshuffle\u001b[0m\u001b[1;33m=\u001b[0m\u001b[0mshuffle\u001b[0m\u001b[1;33m,\u001b[0m\u001b[1;33m\u001b[0m\u001b[1;33m\u001b[0m\u001b[0m\n\u001b[1;32m-> 1426\u001b[1;33m         initial_epoch=initial_epoch)\n\u001b[0m\u001b[0;32m   1427\u001b[0m \u001b[1;33m\u001b[0m\u001b[0m\n\u001b[0;32m   1428\u001b[0m   def evaluate_generator(self,\n",
      "\u001b[1;32mc:\\users\\richard\\appdata\\local\\programs\\python\\python37\\lib\\site-packages\\tensorflow\\python\\keras\\engine\\training_generator.py\u001b[0m in \u001b[0;36mmodel_iteration\u001b[1;34m(model, data, steps_per_epoch, epochs, verbose, callbacks, validation_data, validation_steps, class_weight, max_queue_size, workers, use_multiprocessing, shuffle, initial_epoch, mode, batch_size, **kwargs)\u001b[0m\n\u001b[0;32m    189\u001b[0m       \u001b[0mprogbar\u001b[0m\u001b[1;33m.\u001b[0m\u001b[0mon_batch_begin\u001b[0m\u001b[1;33m(\u001b[0m\u001b[0mstep\u001b[0m\u001b[1;33m,\u001b[0m \u001b[0mbatch_logs\u001b[0m\u001b[1;33m)\u001b[0m\u001b[1;33m\u001b[0m\u001b[1;33m\u001b[0m\u001b[0m\n\u001b[0;32m    190\u001b[0m \u001b[1;33m\u001b[0m\u001b[0m\n\u001b[1;32m--> 191\u001b[1;33m       \u001b[0mbatch_outs\u001b[0m \u001b[1;33m=\u001b[0m \u001b[0mbatch_function\u001b[0m\u001b[1;33m(\u001b[0m\u001b[1;33m*\u001b[0m\u001b[0mbatch_data\u001b[0m\u001b[1;33m)\u001b[0m\u001b[1;33m\u001b[0m\u001b[1;33m\u001b[0m\u001b[0m\n\u001b[0m\u001b[0;32m    192\u001b[0m       \u001b[1;32mif\u001b[0m \u001b[1;32mnot\u001b[0m \u001b[0misinstance\u001b[0m\u001b[1;33m(\u001b[0m\u001b[0mbatch_outs\u001b[0m\u001b[1;33m,\u001b[0m \u001b[0mlist\u001b[0m\u001b[1;33m)\u001b[0m\u001b[1;33m:\u001b[0m\u001b[1;33m\u001b[0m\u001b[1;33m\u001b[0m\u001b[0m\n\u001b[0;32m    193\u001b[0m         \u001b[0mbatch_outs\u001b[0m \u001b[1;33m=\u001b[0m \u001b[1;33m[\u001b[0m\u001b[0mbatch_outs\u001b[0m\u001b[1;33m]\u001b[0m\u001b[1;33m\u001b[0m\u001b[1;33m\u001b[0m\u001b[0m\n",
      "\u001b[1;32mc:\\users\\richard\\appdata\\local\\programs\\python\\python37\\lib\\site-packages\\tensorflow\\python\\keras\\engine\\training.py\u001b[0m in \u001b[0;36mtrain_on_batch\u001b[1;34m(self, x, y, sample_weight, class_weight, reset_metrics)\u001b[0m\n\u001b[0;32m   1189\u001b[0m       \u001b[1;32melse\u001b[0m\u001b[1;33m:\u001b[0m\u001b[1;33m\u001b[0m\u001b[1;33m\u001b[0m\u001b[0m\n\u001b[0;32m   1190\u001b[0m         \u001b[0mself\u001b[0m\u001b[1;33m.\u001b[0m\u001b[0m_make_fit_function\u001b[0m\u001b[1;33m(\u001b[0m\u001b[1;33m)\u001b[0m\u001b[1;33m\u001b[0m\u001b[1;33m\u001b[0m\u001b[0m\n\u001b[1;32m-> 1191\u001b[1;33m         \u001b[0moutputs\u001b[0m \u001b[1;33m=\u001b[0m \u001b[0mself\u001b[0m\u001b[1;33m.\u001b[0m\u001b[0m_fit_function\u001b[0m\u001b[1;33m(\u001b[0m\u001b[0mins\u001b[0m\u001b[1;33m)\u001b[0m  \u001b[1;31m# pylint: disable=not-callable\u001b[0m\u001b[1;33m\u001b[0m\u001b[1;33m\u001b[0m\u001b[0m\n\u001b[0m\u001b[0;32m   1192\u001b[0m \u001b[1;33m\u001b[0m\u001b[0m\n\u001b[0;32m   1193\u001b[0m     \u001b[1;32mif\u001b[0m \u001b[0mreset_metrics\u001b[0m\u001b[1;33m:\u001b[0m\u001b[1;33m\u001b[0m\u001b[1;33m\u001b[0m\u001b[0m\n",
      "\u001b[1;32mc:\\users\\richard\\appdata\\local\\programs\\python\\python37\\lib\\site-packages\\tensorflow\\python\\keras\\backend.py\u001b[0m in \u001b[0;36m__call__\u001b[1;34m(self, inputs)\u001b[0m\n\u001b[0;32m   3074\u001b[0m \u001b[1;33m\u001b[0m\u001b[0m\n\u001b[0;32m   3075\u001b[0m     fetched = self._callable_fn(*array_vals,\n\u001b[1;32m-> 3076\u001b[1;33m                                 run_metadata=self.run_metadata)\n\u001b[0m\u001b[0;32m   3077\u001b[0m     \u001b[0mself\u001b[0m\u001b[1;33m.\u001b[0m\u001b[0m_call_fetch_callbacks\u001b[0m\u001b[1;33m(\u001b[0m\u001b[0mfetched\u001b[0m\u001b[1;33m[\u001b[0m\u001b[1;33m-\u001b[0m\u001b[0mlen\u001b[0m\u001b[1;33m(\u001b[0m\u001b[0mself\u001b[0m\u001b[1;33m.\u001b[0m\u001b[0m_fetches\u001b[0m\u001b[1;33m)\u001b[0m\u001b[1;33m:\u001b[0m\u001b[1;33m]\u001b[0m\u001b[1;33m)\u001b[0m\u001b[1;33m\u001b[0m\u001b[1;33m\u001b[0m\u001b[0m\n\u001b[0;32m   3078\u001b[0m     return nest.pack_sequence_as(self._outputs_structure,\n",
      "\u001b[1;32mc:\\users\\richard\\appdata\\local\\programs\\python\\python37\\lib\\site-packages\\tensorflow\\python\\client\\session.py\u001b[0m in \u001b[0;36m__call__\u001b[1;34m(self, *args, **kwargs)\u001b[0m\n\u001b[0;32m   1437\u001b[0m           ret = tf_session.TF_SessionRunCallable(\n\u001b[0;32m   1438\u001b[0m               \u001b[0mself\u001b[0m\u001b[1;33m.\u001b[0m\u001b[0m_session\u001b[0m\u001b[1;33m.\u001b[0m\u001b[0m_session\u001b[0m\u001b[1;33m,\u001b[0m \u001b[0mself\u001b[0m\u001b[1;33m.\u001b[0m\u001b[0m_handle\u001b[0m\u001b[1;33m,\u001b[0m \u001b[0margs\u001b[0m\u001b[1;33m,\u001b[0m \u001b[0mstatus\u001b[0m\u001b[1;33m,\u001b[0m\u001b[1;33m\u001b[0m\u001b[1;33m\u001b[0m\u001b[0m\n\u001b[1;32m-> 1439\u001b[1;33m               run_metadata_ptr)\n\u001b[0m\u001b[0;32m   1440\u001b[0m         \u001b[1;32mif\u001b[0m \u001b[0mrun_metadata\u001b[0m\u001b[1;33m:\u001b[0m\u001b[1;33m\u001b[0m\u001b[1;33m\u001b[0m\u001b[0m\n\u001b[0;32m   1441\u001b[0m           \u001b[0mproto_data\u001b[0m \u001b[1;33m=\u001b[0m \u001b[0mtf_session\u001b[0m\u001b[1;33m.\u001b[0m\u001b[0mTF_GetBuffer\u001b[0m\u001b[1;33m(\u001b[0m\u001b[0mrun_metadata_ptr\u001b[0m\u001b[1;33m)\u001b[0m\u001b[1;33m\u001b[0m\u001b[1;33m\u001b[0m\u001b[0m\n",
      "\u001b[1;31mKeyboardInterrupt\u001b[0m: "
     ]
    }
   ],
   "source": [
    "LBP = False\n",
    "channels = 1\n",
    "\n",
    "model, weights_loss = u_net((COLUMNS, ROWS, channels), distance_transform=False)\n",
    "# model.summary()\n",
    "\n",
    "DEFAULT_MODEL = 'unet-REG-50-CROSSENTROPY-AUGM-WEIGHTS'\n",
    "\n",
    "# print('Default model name:', DEFAULT_MODEL)\n",
    "# name = raw_input()\n",
    "MODEL = DEFAULT_MODEL\n",
    "print('Using:', MODEL)\n",
    "\n",
    "model_checkpoint = ModelCheckpoint(f'{main_dir}/models/checkpoint/{MODEL}(ckpt).hdf5', monitor='val_loss', verbose=1, save_best_only=True, save_weights_only=True)\n",
    "\n",
    "epochs = 50\n",
    "batch_size = 8\n",
    "\n",
    "train_gen = generator(x_train, y_train, batch_size, train_ind, augmentation=TRAIN_AUGMENT, weights=False)\n",
    "eval_gen = generator(x_train, y_train, batch_size, eval_ind, augmentation=TRAIN_AUGMENT, weights=False)\n",
    "\n",
    "# model.fit_generator(x_train, y_train, batch_size=10, epochs=50, validation_data=(x_test, y_test), callbacks=[TensorBoardColabCallback(tbc), model_checkpoint])\n",
    "\n",
    "history = model.fit_generator(\n",
    "    generator=train_gen,\n",
    "    epochs=epochs,\n",
    "    verbose=1,\n",
    "    steps_per_epoch=train_ind.shape[0]//batch_size,\n",
    "    validation_data=eval_gen,\n",
    "    validation_steps=eval_ind.shape[0]//batch_size,\n",
    "    callbacks=[model_checkpoint])\n",
    "\n",
    "# Save model and tensor logs\n",
    "model.save_weights(f'{main_dir}/models/{MODEL}.hdf5')"
   ]
  },
  {
   "cell_type": "markdown",
   "metadata": {
    "colab_type": "text",
    "id": "zf9Dqc2VhbT4"
   },
   "source": [
    "### Save training history to file"
   ]
  },
  {
   "cell_type": "code",
   "execution_count": null,
   "metadata": {
    "colab": {},
    "colab_type": "code",
    "id": "ZF1h9ZyjSx13"
   },
   "outputs": [],
   "source": [
    "with open(f'{main_dir}/logs/{OPEN_MODEL}.history.pkl', 'wb') as output:  # Overwrites any existing file.\n",
    "        pickle.dump(history.history, output, pickle.HIGHEST_PROTOCOL)"
   ]
  },
  {
   "cell_type": "markdown",
   "metadata": {
    "colab_type": "text",
    "id": "L7e5QuB-b9bz"
   },
   "source": [
    "### Load training history from file"
   ]
  },
  {
   "cell_type": "code",
   "execution_count": null,
   "metadata": {
    "colab": {},
    "colab_type": "code",
    "id": "Uk_xDdBAS_cT"
   },
   "outputs": [],
   "source": [
    "with open(f'{main_dir}/logs/{OPEN_MODEL}.history.pkl', 'rb') as input:\n",
    "    input_data = pickle.load(input)"
   ]
  },
  {
   "cell_type": "code",
   "execution_count": null,
   "metadata": {
    "colab": {},
    "colab_type": "code",
    "id": "1llBtBS4CMTO"
   },
   "outputs": [],
   "source": [
    "for key, value in input_data.items():\n",
    "  print(key)"
   ]
  },
  {
   "cell_type": "code",
   "execution_count": null,
   "metadata": {
    "colab": {},
    "colab_type": "code",
    "id": "Djz17C3J7iGO"
   },
   "outputs": [],
   "source": [
    "f = open(f\"{toDirectory}/model-logs.txt\", \"a\")\n",
    "f.write(f\"[MODEL] Finished training of the 'unet-ext' model. Epochs: 50, Batch size: 10, \")\n",
    "f.close()"
   ]
  },
  {
   "cell_type": "markdown",
   "metadata": {
    "colab_type": "text",
    "id": "pxUM-5jhoXg5"
   },
   "source": [
    "## Load and Evaluate Model"
   ]
  },
  {
   "cell_type": "code",
   "execution_count": null,
   "metadata": {
    "colab": {},
    "colab_type": "code",
    "id": "w4h6SWO2HJJ7"
   },
   "outputs": [],
   "source": [
    "train_file = tables.open_file(f'{main_dir}/CT-train-DT.h5', mode=\"r\")\n",
    "print(train_file)"
   ]
  },
  {
   "cell_type": "markdown",
   "metadata": {
    "colab_type": "text",
    "id": "soXD1vs2CwIJ"
   },
   "source": [
    "#### Plot training STATISTICS"
   ]
  },
  {
   "cell_type": "code",
   "execution_count": null,
   "metadata": {
    "colab": {},
    "colab_type": "code",
    "id": "K6W0rpInr9PC"
   },
   "outputs": [],
   "source": [
    "fig, axs = plt.subplots(1, 3, figsize=(15, 5))\n",
    "axs[0].plot(input_data[\"dice_coef\"])\n",
    "axs[0].plot(input_data[\"val_dice_coef\"])\n",
    "axs[0].set_title(\"Dice Coefficient\")\n",
    "axs[1].plot(input_data[\"acc\"])\n",
    "axs[1].plot(input_data[\"val_acc\"])\n",
    "axs[1].set_title(\"Accuracy\")\n",
    "axs[2].plot(input_data[\"loss\"])\n",
    "axs[2].plot(input_data[\"val_loss\"])\n",
    "axs[2].set_title(\"Binary crossentropy\")\n",
    "fig.suptitle('Training Evaluation')\n",
    "plt.figlegend([\"Training\", \"Validation\"], loc = 'lower center', ncol=5, labelspacing=0. )"
   ]
  },
  {
   "cell_type": "markdown",
   "metadata": {
    "colab_type": "text",
    "id": "r6mX-gWMwC09"
   },
   "source": [
    "### Load Model - predict evaluation data"
   ]
  },
  {
   "cell_type": "code",
   "execution_count": null,
   "metadata": {
    "colab": {},
    "colab_type": "code",
    "id": "u3eJ3n-swHU-"
   },
   "outputs": [],
   "source": [
    "model = load_model(f'{main_dir}/models/checkpoint/{OPEN_MODEL}.hdf5', custom_objects={'dice_coef_loss': dice_coef_loss, 'dice_coef': dice_coef})\n",
    "print()\n",
    "print(f\"Model: {OPEN_MODEL} successfuly loaded.\")"
   ]
  },
  {
   "cell_type": "code",
   "execution_count": null,
   "metadata": {
    "colab": {},
    "colab_type": "code",
    "id": "2uRy2deIG2A4"
   },
   "outputs": [],
   "source": [
    "from medpy.metric import dc, ravd, assd"
   ]
  },
  {
   "cell_type": "code",
   "execution_count": null,
   "metadata": {
    "colab": {},
    "colab_type": "code",
    "id": "usd501oSxJa2"
   },
   "outputs": [],
   "source": [
    "x_eval, y_eval = x_train[2302:], y_train[2302:] \n",
    "prediction = model.predict(x_eval.reshape((-1, ROWS, COLUMNS, 1)))\n",
    "print(prediction.shape)\n",
    "print(x_eval.shape)\n",
    "print(y_eval.shape)"
   ]
  },
  {
   "cell_type": "code",
   "execution_count": null,
   "metadata": {
    "colab": {},
    "colab_type": "code",
    "id": "Cd8Rp44GbWc0"
   },
   "outputs": [],
   "source": [
    "from sklearn.metrics import accuracy_score, precision_score, recall_score"
   ]
  },
  {
   "cell_type": "code",
   "execution_count": null,
   "metadata": {
    "colab": {},
    "colab_type": "code",
    "id": "Nm3qOa2Scuzm"
   },
   "outputs": [],
   "source": [
    "\n",
    "smooth = 0.000001\n",
    "def dice_coef_np(y_true, y_pred):\n",
    "    y_true_f = y_true.flatten()\n",
    "    y_pred_f = y_pred.flatten()\n",
    "    intersection = np.sum(y_true_f * y_pred_f)\n",
    "    return (2. * intersection + smooth) / (np.sum(y_true_f) + np.sum(y_pred_f) + smooth)\n"
   ]
  },
  {
   "cell_type": "code",
   "execution_count": null,
   "metadata": {
    "colab": {},
    "colab_type": "code",
    "id": "_XO0740Yb5yt"
   },
   "outputs": [],
   "source": [
    "pred_f = np.round(prediction)\n",
    "y_eval_f = y_eval"
   ]
  },
  {
   "cell_type": "code",
   "execution_count": null,
   "metadata": {
    "colab": {},
    "colab_type": "code",
    "id": "aJbKExQwcG0l"
   },
   "outputs": [],
   "source": [
    "print('DSC', dice_coef_np(y_eval_f, pred_f))\n",
    "print('Precison', precision_score(y_eval_f, pred_f))\n",
    "print('Recall', recall_score(y_eval_f, pred_f))"
   ]
  },
  {
   "cell_type": "code",
   "execution_count": null,
   "metadata": {
    "colab": {},
    "colab_type": "code",
    "id": "6Sdb0qhs8HKJ"
   },
   "outputs": [],
   "source": []
  }
 ],
 "metadata": {
  "accelerator": "TPU",
  "colab": {
   "collapsed_sections": [
    "cG2wcsxGFnGW",
    "6RzAG9luxuxT",
    "yAKwRaDrJgiW",
    "Ne89W_aN_S0i"
   ],
   "name": "U-net - LIVER segementation",
   "provenance": [],
   "toc_visible": true
  },
  "kernelspec": {
   "display_name": "Python 3",
   "language": "python",
   "name": "python3"
  },
  "language_info": {
   "codemirror_mode": {
    "name": "ipython",
    "version": 3
   },
   "file_extension": ".py",
   "mimetype": "text/x-python",
   "name": "python",
   "nbconvert_exporter": "python",
   "pygments_lexer": "ipython3",
   "version": "3.7.3"
  }
 },
 "nbformat": 4,
 "nbformat_minor": 2
}
