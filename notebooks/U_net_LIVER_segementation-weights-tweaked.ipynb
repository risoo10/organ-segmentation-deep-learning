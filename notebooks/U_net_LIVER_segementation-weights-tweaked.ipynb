{
  "nbformat": 4,
  "nbformat_minor": 0,
  "metadata": {
    "colab": {
      "name": "U-net - LIVER segementation",
      "provenance": [],
      "collapsed_sections": [
        "yAKwRaDrJgiW",
        "Ne89W_aN_S0i"
      ],
      "toc_visible": true,
      "machine_shape": "hm"
    },
    "kernelspec": {
      "name": "python3",
      "display_name": "Python 3"
    },
    "accelerator": "GPU"
  },
  "cells": [
    {
      "cell_type": "markdown",
      "metadata": {
        "id": "uY1ubu72FTNU",
        "colab_type": "text"
      },
      "source": [
        "# U-net MODEL for liver segmentation from CT images"
      ]
    },
    {
      "cell_type": "code",
      "metadata": {
        "id": "LnAxLgiRFlmK",
        "colab_type": "code",
        "outputId": "416ca4e0-9322-46f8-c8f2-ec9ca901684a",
        "colab": {
          "base_uri": "https://localhost:8080/",
          "height": 122
        }
      },
      "source": [
        "from google.colab import drive\n",
        "drive.mount('/content/drive')"
      ],
      "execution_count": 0,
      "outputs": [
        {
          "output_type": "stream",
          "text": [
            "Go to this URL in a browser: https://accounts.google.com/o/oauth2/auth?client_id=947318989803-6bn6qk8qdgf4n4g3pfee6491hc0brc4i.apps.googleusercontent.com&redirect_uri=urn%3aietf%3awg%3aoauth%3a2.0%3aoob&response_type=code&scope=email%20https%3a%2f%2fwww.googleapis.com%2fauth%2fdocs.test%20https%3a%2f%2fwww.googleapis.com%2fauth%2fdrive%20https%3a%2f%2fwww.googleapis.com%2fauth%2fdrive.photos.readonly%20https%3a%2f%2fwww.googleapis.com%2fauth%2fpeopleapi.readonly\n",
            "\n",
            "Enter your authorization code:\n",
            "··········\n",
            "Mounted at /content/drive\n"
          ],
          "name": "stdout"
        }
      ]
    },
    {
      "cell_type": "code",
      "metadata": {
        "id": "rq9nmgi3LBwg",
        "colab_type": "code",
        "outputId": "2dff2661-57c3-4181-e08b-c86cd312c4cc",
        "colab": {
          "base_uri": "https://localhost:8080/",
          "height": 901
        }
      },
      "source": [
        "!pip install pydicom SimpleITK tensorboardcolab albumentations scikit-image medpy keras==2.1.4"
      ],
      "execution_count": 0,
      "outputs": [
        {
          "output_type": "stream",
          "text": [
            "Collecting pydicom\n",
            "\u001b[?25l  Downloading https://files.pythonhosted.org/packages/fc/d5/da1fdf3b967e324ee47a7ad9553c9b94c1193b6b98afd9eeda0efb76b9f7/pydicom-1.3.0-py2.py3-none-any.whl (7.1MB)\n",
            "\u001b[K     |████████████████████████████████| 7.1MB 2.7MB/s \n",
            "\u001b[?25hCollecting SimpleITK\n",
            "\u001b[?25l  Downloading https://files.pythonhosted.org/packages/f8/d8/53338c34f71020725ffb3557846c80af96c29c03bc883551a2565aa68a7c/SimpleITK-1.2.4-cp36-cp36m-manylinux1_x86_64.whl (42.5MB)\n",
            "\u001b[K     |████████████████████████████████| 42.5MB 1.6MB/s \n",
            "\u001b[?25hRequirement already satisfied: tensorboardcolab in /usr/local/lib/python3.6/dist-packages (0.0.22)\n",
            "Requirement already satisfied: albumentations in /usr/local/lib/python3.6/dist-packages (0.1.12)\n",
            "Requirement already satisfied: scikit-image in /usr/local/lib/python3.6/dist-packages (0.15.0)\n",
            "Collecting medpy\n",
            "\u001b[?25l  Downloading https://files.pythonhosted.org/packages/3b/70/c1fd5dd60242eee81774696ea7ba4caafac2bad8f028bba94b1af83777d7/MedPy-0.4.0.tar.gz (151kB)\n",
            "\u001b[K     |████████████████████████████████| 153kB 58.0MB/s \n",
            "\u001b[?25hCollecting keras==2.1.4\n",
            "\u001b[?25l  Downloading https://files.pythonhosted.org/packages/86/45/a273fe3f8fe931a11da34fba1cb74013cfc70dcf93e5d8d329c951dc44c5/Keras-2.1.4-py2.py3-none-any.whl (322kB)\n",
            "\u001b[K     |████████████████████████████████| 327kB 56.4MB/s \n",
            "\u001b[?25hRequirement already satisfied: opencv-python in /usr/local/lib/python3.6/dist-packages (from albumentations) (3.4.7.28)\n",
            "Requirement already satisfied: scipy in /usr/local/lib/python3.6/dist-packages (from albumentations) (1.3.2)\n",
            "Requirement already satisfied: numpy>=1.11.1 in /usr/local/lib/python3.6/dist-packages (from albumentations) (1.17.4)\n",
            "Collecting imgaug<0.2.7,>=0.2.5\n",
            "\u001b[?25l  Downloading https://files.pythonhosted.org/packages/ad/2e/748dbb7bb52ec8667098bae9b585f448569ae520031932687761165419a2/imgaug-0.2.6.tar.gz (631kB)\n",
            "\u001b[K     |████████████████████████████████| 634kB 60.1MB/s \n",
            "\u001b[?25hRequirement already satisfied: pillow>=4.3.0 in /usr/local/lib/python3.6/dist-packages (from scikit-image) (4.3.0)\n",
            "Requirement already satisfied: matplotlib!=3.0.0,>=2.0.0 in /usr/local/lib/python3.6/dist-packages (from scikit-image) (3.1.1)\n",
            "Requirement already satisfied: networkx>=2.0 in /usr/local/lib/python3.6/dist-packages (from scikit-image) (2.4)\n",
            "Requirement already satisfied: PyWavelets>=0.4.0 in /usr/local/lib/python3.6/dist-packages (from scikit-image) (1.1.1)\n",
            "Requirement already satisfied: imageio>=2.0.1 in /usr/local/lib/python3.6/dist-packages (from scikit-image) (2.4.1)\n",
            "Requirement already satisfied: pyyaml in /usr/local/lib/python3.6/dist-packages (from keras==2.1.4) (3.13)\n",
            "Requirement already satisfied: six>=1.9.0 in /usr/local/lib/python3.6/dist-packages (from keras==2.1.4) (1.12.0)\n",
            "Requirement already satisfied: olefile in /usr/local/lib/python3.6/dist-packages (from pillow>=4.3.0->scikit-image) (0.46)\n",
            "Requirement already satisfied: cycler>=0.10 in /usr/local/lib/python3.6/dist-packages (from matplotlib!=3.0.0,>=2.0.0->scikit-image) (0.10.0)\n",
            "Requirement already satisfied: python-dateutil>=2.1 in /usr/local/lib/python3.6/dist-packages (from matplotlib!=3.0.0,>=2.0.0->scikit-image) (2.6.1)\n",
            "Requirement already satisfied: kiwisolver>=1.0.1 in /usr/local/lib/python3.6/dist-packages (from matplotlib!=3.0.0,>=2.0.0->scikit-image) (1.1.0)\n",
            "Requirement already satisfied: pyparsing!=2.0.4,!=2.1.2,!=2.1.6,>=2.0.1 in /usr/local/lib/python3.6/dist-packages (from matplotlib!=3.0.0,>=2.0.0->scikit-image) (2.4.5)\n",
            "Requirement already satisfied: decorator>=4.3.0 in /usr/local/lib/python3.6/dist-packages (from networkx>=2.0->scikit-image) (4.4.1)\n",
            "Requirement already satisfied: setuptools in /usr/local/lib/python3.6/dist-packages (from kiwisolver>=1.0.1->matplotlib!=3.0.0,>=2.0.0->scikit-image) (41.6.0)\n",
            "Building wheels for collected packages: medpy, imgaug\n",
            "  Building wheel for medpy (setup.py) ... \u001b[?25l\u001b[?25hdone\n",
            "  Created wheel for medpy: filename=MedPy-0.4.0-cp36-cp36m-linux_x86_64.whl size=753423 sha256=d780b743f832cf4070d84da6c961d254451b523e47430b61bbc302fe8565db87\n",
            "  Stored in directory: /root/.cache/pip/wheels/8c/c9/9c/2c6281c7a72b9fb1570862a4f028af7ce38405008354fbf870\n",
            "  Building wheel for imgaug (setup.py) ... \u001b[?25l\u001b[?25hdone\n",
            "  Created wheel for imgaug: filename=imgaug-0.2.6-cp36-none-any.whl size=654020 sha256=3f13f8e292a298b81a696cc03f61258c890f34b44d947e0f8ae9d79940cceffa\n",
            "  Stored in directory: /root/.cache/pip/wheels/97/ec/48/0d25896c417b715af6236dbcef8f0bed136a1a5e52972fc6d0\n",
            "Successfully built medpy imgaug\n",
            "\u001b[31mERROR: textgenrnn 1.4.1 has requirement keras>=2.1.5, but you'll have keras 2.1.4 which is incompatible.\u001b[0m\n",
            "Installing collected packages: pydicom, SimpleITK, medpy, keras, imgaug\n",
            "  Found existing installation: Keras 2.2.5\n",
            "    Uninstalling Keras-2.2.5:\n",
            "      Successfully uninstalled Keras-2.2.5\n",
            "  Found existing installation: imgaug 0.2.9\n",
            "    Uninstalling imgaug-0.2.9:\n",
            "      Successfully uninstalled imgaug-0.2.9\n",
            "Successfully installed SimpleITK-1.2.4 imgaug-0.2.6 keras-2.1.4 medpy-0.4.0 pydicom-1.3.0\n"
          ],
          "name": "stdout"
        }
      ]
    },
    {
      "cell_type": "markdown",
      "metadata": {
        "id": "YGHiTfl2h86S",
        "colab_type": "text"
      },
      "source": [
        "### Import dependecies and setup main directory to google drive directory "
      ]
    },
    {
      "cell_type": "markdown",
      "metadata": {
        "id": "J0jRD3DEwOg2",
        "colab_type": "text"
      },
      "source": [
        "# New Section"
      ]
    },
    {
      "cell_type": "code",
      "metadata": {
        "id": "Pmdcc-IYFxfJ",
        "colab_type": "code",
        "colab": {}
      },
      "source": [
        "import os\n",
        "import random\n",
        "import pydicom\n",
        "import numpy as np\n",
        "import cv2\n",
        "from tqdm import tqdm\n",
        "import SimpleITK as sitk\n",
        "import matplotlib.pyplot as plt\n",
        "import pickle\n",
        "from skimage import feature\n",
        "import tables\n",
        "from functools import partial\n",
        "from albumentations import (\n",
        "    Compose, HorizontalFlip, VerticalFlip, ShiftScaleRotate\n",
        ")"
      ],
      "execution_count": 0,
      "outputs": []
    },
    {
      "cell_type": "code",
      "metadata": {
        "id": "b1Q109MsF0Ji",
        "colab_type": "code",
        "colab": {}
      },
      "source": [
        "COLUMNS, ROWS = 512, 512\n",
        "main_dir = '/content/drive/My Drive/DP - Prototype'\n",
        "data_dir = f'{main_dir}/data'\n",
        "channels = 1"
      ],
      "execution_count": 0,
      "outputs": []
    },
    {
      "cell_type": "markdown",
      "metadata": {
        "id": "yQcOFJX2lLct",
        "colab_type": "text"
      },
      "source": [
        "## Open HDF file\n",
        "HDF allow to read file in baches from disc during the training phase instead of reading all data to RAM at once. "
      ]
    },
    {
      "cell_type": "code",
      "metadata": {
        "id": "Eat-8bb4lK58",
        "colab_type": "code",
        "outputId": "bec860bc-0f9b-40f7-ebb8-459a82ae0be2",
        "colab": {
          "base_uri": "https://localhost:8080/",
          "height": 136
        }
      },
      "source": [
        "train_file = tables.open_file(f'{main_dir}/CT-train.h5', mode=\"r\")\n",
        "print(train_file)"
      ],
      "execution_count": 0,
      "outputs": [
        {
          "output_type": "stream",
          "text": [
            "/content/drive/My Drive/DP - Prototype/CT-train.h5 (File) ''\n",
            "Last modif.: 'Tue Nov 12 21:25:55 2019'\n",
            "Object Tree: \n",
            "/ (RootGroup) ''\n",
            "/x (CArray(2874, 512, 512), shuffle, blosc(5)) ''\n",
            "/y (CArray(2874, 512, 512), shuffle, blosc(5)) ''\n",
            "\n"
          ],
          "name": "stdout"
        }
      ]
    },
    {
      "cell_type": "code",
      "metadata": {
        "id": "QRwMcZHdlmNO",
        "colab_type": "code",
        "colab": {}
      },
      "source": [
        "x_train = train_file.get_node('/x')\n",
        "y_train = train_file.get_node('/y')"
      ],
      "execution_count": 0,
      "outputs": []
    },
    {
      "cell_type": "code",
      "metadata": {
        "id": "7bph7u6HSd6c",
        "colab_type": "code",
        "colab": {}
      },
      "source": [
        "OPEN_MODEL = 'unet-REG-50-CROSSENTROPY-AUGM-corr(ckpt)'"
      ],
      "execution_count": 0,
      "outputs": []
    },
    {
      "cell_type": "markdown",
      "metadata": {
        "id": "cG2wcsxGFnGW",
        "colab_type": "text"
      },
      "source": [
        "### Plot slices"
      ]
    },
    {
      "cell_type": "code",
      "metadata": {
        "id": "uVe6XEsjlqLr",
        "colab_type": "code",
        "colab": {}
      },
      "source": [
        "def plot_slice(x, y):\n",
        "  counter = 1\n",
        "  if len(x.shape) > 2:\n",
        "    length = x.shape[2] + 1\n",
        "  else:\n",
        "    length = 2\n",
        "  \n",
        "  figure = plt.figure(figsize=(20, 20))\n",
        "  if len(x.shape) > 2 and x.shape[2] == 2:\n",
        "    plt.subplot(1, length, counter) \n",
        "    plt.imshow(np.nan_to_num(x[:, :, 0]), cmap=\"bone\")\n",
        "    counter += 1\n",
        "  \n",
        "    plt.subplot(1, length, counter) \n",
        "    plt.imshow(np.nan_to_num(x[:, :, 1]), cmap=\"bone\")\n",
        "    counter += 1\n",
        "    \n",
        "  else:\n",
        "    if len(y.shape) > 2:\n",
        "      plt.subplot(1, length, counter) \n",
        "      plt.imshow(np.nan_to_num(x[:, :, 0]), cmap=\"bone\")\n",
        "      counter += 1\n",
        "    else:\n",
        "      plt.subplot(1, length, counter) \n",
        "      plt.imshow(np.nan_to_num(x), cmap=\"bone\")\n",
        "      counter += 1\n",
        "    \n",
        "  \n",
        "  if len(y.shape) > 2:\n",
        "    plt.subplot(1, length, counter)\n",
        "    plt.imshow(np.nan_to_num(y[:, :, 0]), cmap=\"bone\")\n",
        "   \n",
        "  else:\n",
        "    plt.subplot(1, length, counter)\n",
        "    plt.imshow(np.nan_to_num(y), cmap=\"bone\")\n",
        "  \n",
        "  plt.show()"
      ],
      "execution_count": 0,
      "outputs": []
    },
    {
      "cell_type": "code",
      "metadata": {
        "id": "cDgryICiFVTM",
        "colab_type": "code",
        "outputId": "75fa40da-5e35-4181-8e7d-217c92553171",
        "colab": {
          "base_uri": "https://localhost:8080/",
          "height": 286
        }
      },
      "source": [
        "slice_n = 5\n",
        "y = y_train[slice_n]\n",
        "dt = distance_transform_weight(y)\n",
        "plt.imshow(dt)\n",
        "plt.colorbar()\n",
        "# plot_slice(dt / 255, y_train[slice_n])"
      ],
      "execution_count": 0,
      "outputs": [
        {
          "output_type": "execute_result",
          "data": {
            "text/plain": [
              "<matplotlib.colorbar.Colorbar at 0x7f7eef7961d0>"
            ]
          },
          "metadata": {
            "tags": []
          },
          "execution_count": 54
        },
        {
          "output_type": "display_data",
          "data": {
            "image/png": "[encoded data removed]",
            "text/plain": [
              "<Figure size 432x288 with 2 Axes>"
            ]
          },
          "metadata": {
            "tags": []
          }
        }
      ]
    },
    {
      "cell_type": "code",
      "metadata": {
        "id": "bHDLTKxo47j4",
        "colab_type": "code",
        "outputId": "9ab781ce-e0dc-467d-a2cd-d86263dc4fb7",
        "colab": {
          "base_uri": "https://localhost:8080/",
          "height": 559
        }
      },
      "source": [
        "plot_slice(y, x)"
      ],
      "execution_count": 0,
      "outputs": [
        {
          "output_type": "display_data",
          "data": {
            "image/png": "[encoded data removed]",
            "text/plain": [
              "<Figure size 1440x1440 with 2 Axes>"
            ]
          },
          "metadata": {
            "tags": []
          }
        }
      ]
    },
    {
      "cell_type": "code",
      "metadata": {
        "id": "JaVLq2Eb5Mbi",
        "colab_type": "code",
        "outputId": "785944cf-f351-4253-9a57-34fd12f2fe1d",
        "colab": {
          "base_uri": "https://localhost:8080/",
          "height": 593
        }
      },
      "source": [
        "x = y\n",
        "dt = distance_transform_weight(x);\n",
        "\n",
        "xK = K.constant(x)\n",
        "yK = K.constant(y)\n",
        "wK = K.constant(dt)\n",
        "binary_cross = K.get_value(K.binary_crossentropy(yK, xK))\n",
        "weight_binary_cross = K.get_value(K.binary_crossentropy(yK, xK) * wK)\n",
        "plot_slice(binary_cross, dt)\n",
        "\n",
        "print('Binary crossentropy', np.mean(binary_cross))\n",
        "print('Weighted Binary crossentropy', np.mean(weight_binary_cross))"
      ],
      "execution_count": 0,
      "outputs": [
        {
          "output_type": "display_data",
          "data": {
            "image/png": "[encoded data removed]",
            "text/plain": [
              "<Figure size 1440x1440 with 2 Axes>"
            ]
          },
          "metadata": {
            "tags": []
          }
        },
        {
          "output_type": "stream",
          "text": [
            "Binary crossentropy 0.00019890617\n",
            "Weighted Binary crossentropy 0.00020050857\n"
          ],
          "name": "stdout"
        }
      ]
    },
    {
      "cell_type": "markdown",
      "metadata": {
        "id": "6RzAG9luxuxT",
        "colab_type": "text"
      },
      "source": [
        "#### Image plots\n"
      ]
    },
    {
      "cell_type": "code",
      "metadata": {
        "id": "X4E_4DQa_DSX",
        "colab_type": "code",
        "colab": {}
      },
      "source": [
        "fig = plt.figure(figsize=(15,15))\n",
        "\n",
        "for num in range(1,26):\n",
        "    ax = fig.add_subplot(5,5,num)\n",
        "    plt.imshow(x_train[num].reshape((COLUMNS, ROWS)), cmap=\"bone\")\n",
        "\n",
        "plt.tight_layout()\n",
        "plt.show()"
      ],
      "execution_count": 0,
      "outputs": []
    },
    {
      "cell_type": "code",
      "metadata": {
        "id": "QtR1F6pYFGWq",
        "colab_type": "code",
        "colab": {}
      },
      "source": [
        "fig = plt.figure(figsize=(15,15))\n",
        "\n",
        "for num in range(1,26):\n",
        "    ax = fig.add_subplot(5,5,num)\n",
        "    plt.imshow(y_train[num].reshape((COLUMNS, ROWS)), cmap=\"bone\")\n",
        "\n",
        "plt.tight_layout()\n",
        "plt.show()"
      ],
      "execution_count": 0,
      "outputs": []
    },
    {
      "cell_type": "markdown",
      "metadata": {
        "id": "4u2QHDebxzGt",
        "colab_type": "text"
      },
      "source": [
        "## Utils\n",
        "We define set of helper functions which includes metrics, generator or local binary patterns operation."
      ]
    },
    {
      "cell_type": "code",
      "metadata": {
        "colab_type": "code",
        "id": "GMCs8xcCo5S0",
        "outputId": "b66bf3b2-c111-4b59-8063-ee4b7d1a2f83",
        "colab": {
          "base_uri": "https://localhost:8080/",
          "height": 51
        }
      },
      "source": [
        "%tensorflow_version 1.x\n",
        "import tensorflow as tf\n",
        "from tensorflow.keras.models import *\n",
        "from tensorflow.keras.layers import *\n",
        "from tensorflow.keras.optimizers import *\n",
        "from tensorflow.keras.callbacks import ModelCheckpoint\n",
        "from tensorflow.keras.metrics import Recall\n",
        "import tensorflow.keras.backend as K\n",
        "from tensorboardcolab import TensorBoardColab, TensorBoardColabCallback\n",
        "from distutils.dir_util import copy_tree\n",
        "from sklearn.metrics import accuracy_score\n",
        "from functools import partial\n",
        "\n",
        "print(tf.test.is_gpu_available())"
      ],
      "execution_count": 0,
      "outputs": [
        {
          "output_type": "stream",
          "text": [
            "Using TensorFlow backend.\n"
          ],
          "name": "stderr"
        },
        {
          "output_type": "stream",
          "text": [
            "True\n"
          ],
          "name": "stdout"
        }
      ]
    },
    {
      "cell_type": "code",
      "metadata": {
        "id": "yOqF3qZmHPIj",
        "colab_type": "code",
        "colab": {}
      },
      "source": [
        "def weighted_binary_crossentropy(y_true, y_pred, weights_input, sample_weight=None):\n",
        "  return K.mean(K.binary_crossentropy(y_true, y_pred) * weights_input)"
      ],
      "execution_count": 0,
      "outputs": []
    },
    {
      "cell_type": "code",
      "metadata": {
        "id": "sfogZlzVmGNZ",
        "colab_type": "code",
        "colab": {}
      },
      "source": [
        "smooth = 0.000001\n",
        "def dice_coef(y_true, y_pred):\n",
        "    y_true_f = K.flatten(y_true)\n",
        "    y_pred_f = K.flatten(y_pred)\n",
        "    intersection = K.sum(y_true_f * y_pred_f)\n",
        "    return (2. * intersection + smooth) / (K.sum(y_true_f) + K.sum(y_pred_f) + smooth)\n",
        "\n",
        "\n",
        "def dice_coef_loss(y_true, y_pred):\n",
        "    return 1 - dice_coef(y_true, y_pred)"
      ],
      "execution_count": 0,
      "outputs": []
    },
    {
      "cell_type": "code",
      "metadata": {
        "id": "mIrHeFg-4jxm",
        "colab_type": "code",
        "colab": {}
      },
      "source": [
        "def round_sigmoid(x):\n",
        "    res = K.sigmoid(x)\n",
        "    return K.relu()"
      ],
      "execution_count": 0,
      "outputs": []
    },
    {
      "cell_type": "code",
      "metadata": {
        "id": "UEF-2xy1vRp3",
        "colab_type": "code",
        "colab": {}
      },
      "source": [
        "def get_local_binary_pattern(x):\n",
        "  res = feature.local_binary_pattern(x.copy(), 8 * 2, 4, 'default')\n",
        "  print(res.shape, res.dtype)\n",
        "  return res\n",
        "  "
      ],
      "execution_count": 0,
      "outputs": []
    },
    {
      "cell_type": "code",
      "metadata": {
        "id": "Cm6ycOEmk3hA",
        "colab_type": "code",
        "colab": {}
      },
      "source": [
        "def distance_transform_weight(x):\n",
        "    x = 1 - x\n",
        "    x *= 255\n",
        "    x = x.astype(np.uint8)\n",
        "    dt = cv2.distanceTransform(x, cv2.DIST_L2, 3)\n",
        "    dt = (dt / 255)\n",
        "    dt = dt ** 2\n",
        "    dt = (dt / dt.max()) * 1.5\n",
        "    return  dt + 1"
      ],
      "execution_count": 0,
      "outputs": []
    },
    {
      "cell_type": "code",
      "metadata": {
        "id": "Asq1Y4vEo84S",
        "colab_type": "code",
        "colab": {}
      },
      "source": [
        "def generator(X_data, y_data, batch_size, indices, augmentation, LBP=False, weights=True):\n",
        "    indx = indices\n",
        "    samples_per_epoch = len(indx)\n",
        "    number_of_batches = samples_per_epoch / batch_size\n",
        "    counter = 0\n",
        "\n",
        "    channels = 1\n",
        "    if LBP:\n",
        "      channels = 2\n",
        "\n",
        "    while 1:\n",
        "        start = batch_size * counter\n",
        "        stop = batch_size * (counter + 1)\n",
        "        indxs = indx[start:stop]\n",
        "        shape = X_data.shape\n",
        "\n",
        "        X_batch = np.zeros((batch_size, X_data.shape[1], X_data.shape[2], 1))\n",
        "        y_batch = np.zeros((batch_size, y_data.shape[1], y_data.shape[2], 1))\n",
        "\n",
        "        if weights:\n",
        "          weights_batch = np.zeros((batch_size, y_data.shape[1], y_data.shape[2], 1))\n",
        "\n",
        "        \n",
        "        for i, idx in enumerate(indxs):\n",
        "            if augmentation is not None:\n",
        "                x = np.nan_to_num(X_data[idx])\n",
        "                y = np.nan_to_num(y_data[idx])\n",
        "                aug = augmentation(image=x, mask=y)\n",
        "                y_batch[i] = aug[\"mask\"].reshape((shape[1], shape[2], 1))\n",
        "\n",
        "                if weights:\n",
        "                  weights_batch[i] = distance_transform_weight(aug[\"mask\"]).reshape((shape[1], shape[2], 1))\n",
        "                \n",
        "                if LBP:\n",
        "                  lbp = get_local_binary_pattern(aug[\"image\"])\n",
        "                  X_batch[i, :, :, 0] = np.nan_to_num(lbp)\n",
        "                else:\n",
        "                  X_batch[i, :, :] = aug[\"image\"].reshape((shape[1], shape[2], 1))\n",
        "                  \n",
        "\n",
        "\n",
        "        counter += 1\n",
        "        if weights:\n",
        "          yield [X_batch.astype(np.float64), weights_batch.astype(np.float64)], y_batch.astype(np.float64)\n",
        "        else:\n",
        "          yield X_batch.astype(np.float64), y_batch.astype(np.float64)\n",
        "\n",
        "        # restart counter to yeild data in the next epoch as well\n",
        "        if counter >= number_of_batches:\n",
        "            np.random.shuffle(indx)\n",
        "            counter = 0"
      ],
      "execution_count": 0,
      "outputs": []
    },
    {
      "cell_type": "markdown",
      "metadata": {
        "id": "sYvK30GvquKB",
        "colab_type": "text"
      },
      "source": [
        "#### Split to train and validation set\n",
        "We are using first 16 patient from the training set as train set and remaining 4 patients as validation set. Split 2302 is the first slice of the patient in validation set. "
      ]
    },
    {
      "cell_type": "code",
      "metadata": {
        "id": "APyXD4HQpAYx",
        "colab_type": "code",
        "outputId": "d5d1afa5-a339-4e48-d90d-1e51bcb59949",
        "colab": {
          "base_uri": "https://localhost:8080/",
          "height": 54
        }
      },
      "source": [
        "with open(f'{main_dir}/patient_slices.pkl', 'rb') as input:\n",
        "    patient_slices = pickle.load(input)\n",
        "    print(patient_slices)"
      ],
      "execution_count": 0,
      "outputs": [
        {
          "output_type": "stream",
          "text": [
            "[{'id': '1', 'slices': 96}, {'id': '10', 'slices': 110}, {'id': '14', 'slices': 95}, {'id': '16', 'slices': 91}, {'id': '18', 'slices': 111}, {'id': '19', 'slices': 90}, {'id': '2', 'slices': 81}, {'id': '21', 'slices': 257}, {'id': '22', 'slices': 101}, {'id': '23', 'slices': 240}, {'id': '24', 'slices': 123}, {'id': '25', 'slices': 235}, {'id': '26', 'slices': 114}, {'id': '27', 'slices': 242}, {'id': '28', 'slices': 102}, {'id': '29', 'slices': 214}, {'id': '30', 'slices': 266}, {'id': '5', 'slices': 95}, {'id': '6', 'slices': 88}, {'id': '8', 'slices': 123}]\n"
          ],
          "name": "stdout"
        }
      ]
    },
    {
      "cell_type": "code",
      "metadata": {
        "id": "9LTPl77MqYkC",
        "colab_type": "code",
        "colab": {}
      },
      "source": [
        "def sum_slices(arr):\n",
        "  return np.sum(list(map(lambda x: x[\"slices\"], arr)))"
      ],
      "execution_count": 0,
      "outputs": []
    },
    {
      "cell_type": "code",
      "metadata": {
        "id": "mdtGlS8gqprr",
        "colab_type": "code",
        "outputId": "bf30ece4-5b7e-446c-cd7a-b0c786d50987",
        "colab": {
          "base_uri": "https://localhost:8080/",
          "height": 34
        }
      },
      "source": [
        "## TOTAL 20 patients arond 100 slices per patient \n",
        "ALL_SIZE = sum_slices(patient_slices)\n",
        "print('All slices:', ALL_SIZE)\n",
        "\n",
        "patients_len = len(patient_slices)\n",
        "train_split = int(0.7 * patients_len)\n",
        "val_split = int(0.1 * patients_len)\n",
        "test_split = int(0.2 * patients_len)\n",
        "\n",
        "train_patients = patient_slices[:train_split] \n",
        "val_patients = patient_slices[train_split:train_split + val_split]\n",
        "test_patients = patient_slices[train_split + val_split:]\n",
        "\n",
        "indices = np.arange(ALL_SIZE)\n",
        "\n",
        "train_size = sum_slices(train_patients)\n",
        "val_size = sum_slices(val_patients)\n",
        "test_size = sum_slices(test_patients)\n",
        "\n",
        "train_ind = indices[:train_size]\n",
        "eval_ind = indices[train_size:train_size + val_size]\n",
        "test_ind = indices[train_size + val_size:]"
      ],
      "execution_count": 0,
      "outputs": [
        {
          "output_type": "stream",
          "text": [
            "All slices: 2874\n"
          ],
          "name": "stdout"
        }
      ]
    },
    {
      "cell_type": "code",
      "metadata": {
        "id": "KF-2Pfsnr0U-",
        "colab_type": "code",
        "outputId": "99b958a8-c0bf-42f8-9eec-a25bcac9fe24",
        "colab": {
          "base_uri": "https://localhost:8080/",
          "height": 68
        }
      },
      "source": [
        "print(\"Train IND (example):\", train_ind[:10], ', shape:', train_ind.shape)\n",
        "print(\"Validation IND (example):\", eval_ind[:10], ', shape:', eval_ind.shape)\n",
        "print(\"TEST IND (example):\", test_ind[:10], ', shape:', test_ind.shape)"
      ],
      "execution_count": 0,
      "outputs": [
        {
          "output_type": "stream",
          "text": [
            "Train IND (example): [0 1 2 3 4 5 6 7 8 9] , shape: (1986,)\n",
            "Validation IND (example): [1986 1987 1988 1989 1990 1991 1992 1993 1994 1995] , shape: (316,)\n",
            "TEST IND (example): [2302 2303 2304 2305 2306 2307 2308 2309 2310 2311] , shape: (572,)\n"
          ],
          "name": "stdout"
        }
      ]
    },
    {
      "cell_type": "markdown",
      "metadata": {
        "id": "yAKwRaDrJgiW",
        "colab_type": "text"
      },
      "source": [
        "##### Test Activation function"
      ]
    },
    {
      "cell_type": "code",
      "metadata": {
        "id": "vfPMTbC7Jjvv",
        "colab_type": "code",
        "outputId": "0168e508-6cb1-4daa-f460-f0a37672fdd2",
        "colab": {
          "base_uri": "https://localhost:8080/",
          "height": 34
        }
      },
      "source": [
        "x = K.constant(np.array([[0, 0]]))\n",
        "y = K.constant(np.array([[1, 1]]))\n",
        "w = K.constant(np.array([[1, 1.0]]))\n",
        "print(K.get_value(weighted_binary_crossentropy(y, x, w)))"
      ],
      "execution_count": 0,
      "outputs": [
        {
          "output_type": "stream",
          "text": [
            "15.424949\n"
          ],
          "name": "stdout"
        }
      ]
    },
    {
      "cell_type": "code",
      "metadata": {
        "id": "eysUZwYgS3kt",
        "colab_type": "code",
        "colab": {}
      },
      "source": [
        "x = np.array([[[0, 0], [1, 0]]])\n",
        "y = np.array([[[0, 0], [1, 0]]])\n",
        "K.get_value(K.mean(K.binary_crossentropy(K.constant(x), K.constant(y), None)))"
      ],
      "execution_count": 0,
      "outputs": []
    },
    {
      "cell_type": "markdown",
      "metadata": {
        "id": "Ne89W_aN_S0i",
        "colab_type": "text"
      },
      "source": [
        "##### Example local binary patterns"
      ]
    },
    {
      "cell_type": "code",
      "metadata": {
        "id": "Ofc7yoOD_eSD",
        "colab_type": "code",
        "colab": {}
      },
      "source": [
        "slice_n = 560\n",
        "x_slice = x_train[slice_n]\n",
        "x_lbp = get_local_binary_pattern(x_slice)\n",
        "plot_slice(x_slice, x_lbp)"
      ],
      "execution_count": 0,
      "outputs": []
    },
    {
      "cell_type": "markdown",
      "metadata": {
        "id": "PZawT9Xxp5Ti",
        "colab_type": "text"
      },
      "source": [
        "## Train model"
      ]
    },
    {
      "cell_type": "markdown",
      "metadata": {
        "id": "XNq7b5Dl_R-a",
        "colab_type": "text"
      },
      "source": [
        "### Data Augmentation - Albumentations"
      ]
    },
    {
      "cell_type": "code",
      "metadata": {
        "id": "tJBWcgkm_WV-",
        "colab_type": "code",
        "colab": {}
      },
      "source": [
        "TRAIN_AUGMENT = Compose([\n",
        "    ShiftScaleRotate(shift_limit=0.0625, scale_limit=0.1, rotate_limit=8, border_mode=cv2.BORDER_CONSTANT, p=0.8),\n",
        "])"
      ],
      "execution_count": 0,
      "outputs": []
    },
    {
      "cell_type": "markdown",
      "metadata": {
        "id": "SFG03Y7vFVKh",
        "colab_type": "text"
      },
      "source": [
        "### Model\n",
        "\n",
        "Keras implementation of U-net was originaly posted [here](https://github.com/zhixuhao/unet/blob/master/model.py). Code was modified as we were experimenting with number of filters in the network."
      ]
    },
    {
      "cell_type": "code",
      "metadata": {
        "id": "3Js6t8ytE_ae",
        "colab_type": "code",
        "colab": {}
      },
      "source": [
        "def u_net(input_shape, distance_transform=False):\n",
        "\n",
        "    weighted_loss = '_'\n",
        "\n",
        "    inputs = Input(input_shape)\n",
        "    conv1 = Conv2D(32, 3, activation = 'relu', padding = 'same')(inputs)\n",
        "    conv1 = Conv2D(32, 3, activation = 'relu', padding = 'same')(conv1)\n",
        "    pool1 = MaxPooling2D(pool_size=(2, 2))(conv1)\n",
        "    conv2 = Conv2D(64, 3, activation = 'relu', padding = 'same')(pool1)\n",
        "    conv2 = Conv2D(64, 3, activation = 'relu', padding = 'same')(conv2)\n",
        "    pool2 = MaxPooling2D(pool_size=(2, 2))(conv2)\n",
        "    conv3 = Conv2D(128, 3, activation = 'relu', padding = 'same')(pool2)\n",
        "    conv3 = Conv2D(128, 3, activation = 'relu', padding = 'same')(conv3)\n",
        "    pool3 = MaxPooling2D(pool_size=(2, 2))(conv3)\n",
        "    conv4 = Conv2D(256, 3, activation = 'relu', padding = 'same')(pool3)\n",
        "    conv4 = Conv2D(256, 3, activation = 'relu', padding = 'same')(conv4)\n",
        "    drop4 = Dropout(0.5)(conv4)\n",
        "\n",
        "    up7 = Conv2D(128, 2, activation = 'relu', padding = 'same')(UpSampling2D(size = (2,2))(drop4))\n",
        "    merge7 = concatenate([conv3,up7], axis = 3)\n",
        "    conv7 = Conv2D(128, 3, activation = 'relu', padding = 'same')(merge7)\n",
        "    conv7 = Conv2D(128, 3, activation = 'relu', padding = 'same')(conv7)\n",
        "\n",
        "    up8 = Conv2D(64, 2, activation = 'relu', padding = 'same')(UpSampling2D(size = (2,2))(conv7))\n",
        "    merge8 = concatenate([conv2,up8], axis = 3)\n",
        "    conv8 = Conv2D(64, 3, activation = 'relu', padding = 'same')(merge8)\n",
        "    conv8 = Conv2D(64, 3, activation = 'relu', padding = 'same')(conv8)\n",
        "\n",
        "    up9 = Conv2D(32, 2, activation = 'relu', padding = 'same')(UpSampling2D(size = (2,2))(conv8))\n",
        "    merge9 = concatenate([conv1,up9], axis = 3)\n",
        "    conv9 = Conv2D(32, 3, activation = 'relu', padding = 'same')(merge9)\n",
        "    conv9 = Conv2D(32, 3, activation = 'relu', padding = 'same')(conv9)\n",
        "    conv9 = Conv2D(2, 3, activation = 'relu', padding = 'same')(conv9)\n",
        "    conv10 = Conv2D(1, 1, activation = 'sigmoid')(conv9)\n",
        "\n",
        "    if distance_transform:\n",
        "      weights_in = Input(input_shape)\n",
        "      weighted_loss = partial(weighted_binary_crossentropy, weights_input=weights_in)\n",
        "      model = Model(inputs=[inputs, weights_in], outputs=conv10)\n",
        "      model.compile(optimizer=Adam(lr=1e-4), loss=weighted_loss, metrics=['accuracy', Recall()])\n",
        "    else:\n",
        "      model = Model(inputs=inputs, outputs=conv10)\n",
        "      model.compile(optimizer=Adam(lr=1e-4), loss=\"binary_crossentropy\", metrics=['accuracy', Recall()])\n",
        "    \n",
        "    ## model.summary()\n",
        "\n",
        "    return model, weighted_loss\n"
      ],
      "execution_count": 0,
      "outputs": []
    },
    {
      "cell_type": "code",
      "metadata": {
        "id": "PwhAFe4NsCMr",
        "colab_type": "code",
        "outputId": "1e3c80a8-9161-4fb5-ba73-a7cea59ef5c3",
        "colab": {
          "base_uri": "https://localhost:8080/",
          "height": 68
        }
      },
      "source": [
        "tbc=TensorBoardColab()"
      ],
      "execution_count": 0,
      "outputs": [
        {
          "output_type": "stream",
          "text": [
            "Wait for 8 seconds...\n",
            "TensorBoard link:\n",
            "https://5c1abf6c.ngrok.io\n"
          ],
          "name": "stdout"
        }
      ]
    },
    {
      "cell_type": "code",
      "metadata": {
        "id": "d5EIJ9ueFW2M",
        "colab_type": "code",
        "outputId": "ec896cb4-70ac-4c1a-97a8-dfeba6f333f4",
        "colab": {
          "base_uri": "https://localhost:8080/",
          "height": 428
        }
      },
      "source": [
        "LBP = False\n",
        "channels = 1\n",
        "\n",
        "model, weights_loss = u_net((COLUMNS, ROWS, channels), distance_transform=True)\n",
        "# model.summary()\n",
        "\n",
        "DEFAULT_MODEL = 'unet-REG-50-CROSSENTROPY-AUGM-WEIGHTS'\n",
        "\n",
        "print('Default model name:', DEFAULT_MODEL)\n",
        "name = !read\n",
        "MODEL = name[0]\n",
        "print('Using:', MODEL)\n",
        "\n",
        "model_checkpoint = ModelCheckpoint(f'{main_dir}/models/checkpoint/{MODEL}(ckpt).hdf5', monitor='val_loss', verbose=1, save_best_only=True, save_weights_only=True)\n",
        "\n",
        "epochs = 80\n",
        "batch_size = 8\n",
        "\n",
        "train_gen = generator(x_train, y_train, batch_size, train_ind, augmentation=TRAIN_AUGMENT, weights=True)\n",
        "eval_gen = generator(x_train, y_train, batch_size, eval_ind, augmentation=TRAIN_AUGMENT, weights=True)\n",
        "\n",
        "# model.fit_generator(x_train, y_train, batch_size=10, epochs=50, validation_data=(x_test, y_test), callbacks=[TensorBoardColabCallback(tbc), model_checkpoint])\n",
        "\n",
        "history = model.fit_generator(\n",
        "    generator=train_gen,\n",
        "    epochs=epochs,\n",
        "    verbose=1,\n",
        "    steps_per_epoch=train_ind.shape[0]//batch_size,\n",
        "    validation_data=eval_gen,\n",
        "    validation_steps=eval_ind.shape[0]//batch_size,\n",
        "    callbacks=[model_checkpoint])\n",
        "\n",
        "# Save model and tensor logs\n",
        "model.save_weights(f'{main_dir}/models/{MODEL}.hdf5')"
      ],
      "execution_count": 0,
      "outputs": [
        {
          "output_type": "stream",
          "text": [
            "WARNING:tensorflow:From /usr/local/lib/python3.6/dist-packages/tensorflow_core/python/ops/resource_variable_ops.py:1630: calling BaseResourceVariable.__init__ (from tensorflow.python.ops.resource_variable_ops) with constraint is deprecated and will be removed in a future version.\n",
            "Instructions for updating:\n",
            "If using Keras pass *_constraint arguments to layers.\n",
            "WARNING:tensorflow:From /usr/local/lib/python3.6/dist-packages/tensorflow_core/python/ops/nn_impl.py:183: where (from tensorflow.python.ops.array_ops) is deprecated and will be removed in a future version.\n",
            "Instructions for updating:\n",
            "Use tf.where in 2.0, which has the same broadcast rule as np.where\n",
            "Default model name: unet-REG-50-CROSSENTROPY-AUGM-WEIGHTS\n",
            "Using: unet-REG-80-CROSSENTROPY-AUGM-WEIGHTS\n",
            "Epoch 1/80\n",
            "247/248 [============================>.] - ETA: 0s - loss: 0.2831 - acc: 0.9405 - recall: 1.3052e-07Epoch 1/80\n",
            " 39/248 [===>..........................] - ETA: 34s - loss: 0.1395 - acc: 0.9474 - recall: 0.0000e+00\n",
            "Epoch 00001: val_loss improved from inf to 0.13951, saving model to /content/drive/My Drive/DP - Prototype/models/checkpoint/unet-REG-80-CROSSENTROPY-AUGM-WEIGHTS(ckpt).hdf5\n",
            "248/248 [==============================] - 109s 441ms/step - loss: 0.2823 - acc: 0.9408 - recall: 1.3052e-07 - val_loss: 0.1395 - val_acc: 0.9474 - val_recall: 0.0000e+00\n",
            "Epoch 2/80\n",
            "247/248 [============================>.] - ETA: 0s - loss: 0.1016 - acc: 0.9415 - recall: 0.0000e+00Epoch 1/80\n",
            " 39/248 [===>..........................] - ETA: 30s - loss: 0.0919 - acc: 0.9490 - recall: 0.0000e+00\n",
            "Epoch 00002: val_loss improved from 0.13951 to 0.09191, saving model to /content/drive/My Drive/DP - Prototype/models/checkpoint/unet-REG-80-CROSSENTROPY-AUGM-WEIGHTS(ckpt).hdf5\n",
            "248/248 [==============================] - 101s 406ms/step - loss: 0.1016 - acc: 0.9413 - recall: 0.0000e+00 - val_loss: 0.0919 - val_acc: 0.9490 - val_recall: 0.0000e+00\n",
            "Epoch 3/80\n",
            "247/248 [============================>.] - ETA: 0s - loss: 0.0774 - acc: 0.9415 - recall: 0.0000e+00Epoch 1/80\n",
            " 39/248 [===>..........................] - ETA: 30s - loss: 0.0717 - acc: 0.9512 - recall: 0.0000e+00\n",
            "Epoch 00003: val_loss improved from 0.09191 to 0.07168, saving model to /content/drive/My Drive/DP - Prototype/models/checkpoint/unet-REG-80-CROSSENTROPY-AUGM-WEIGHTS(ckpt).hdf5\n",
            "248/248 [==============================] - 101s 406ms/step - loss: 0.0774 - acc: 0.9415 - recall: 0.0000e+00 - val_loss: 0.0717 - val_acc: 0.9512 - val_recall: 0.0000e+00\n"
          ],
          "name": "stdout"
        }
      ]
    },
    {
      "cell_type": "markdown",
      "metadata": {
        "id": "zf9Dqc2VhbT4",
        "colab_type": "text"
      },
      "source": [
        "### Save training history to file"
      ]
    },
    {
      "cell_type": "code",
      "metadata": {
        "id": "ZF1h9ZyjSx13",
        "colab_type": "code",
        "outputId": "02222772-d33f-45d5-d8c3-c0b281949260",
        "colab": {
          "base_uri": "https://localhost:8080/",
          "height": 181
        }
      },
      "source": [
        "with open(f'{main_dir}/logs/{OPEN_MODEL}.history.pkl', 'wb') as output:  # Overwrites any existing file.\n",
        "        pickle.dump(history.history, output, pickle.HIGHEST_PROTOCOL)"
      ],
      "execution_count": 0,
      "outputs": [
        {
          "output_type": "error",
          "ename": "NameError",
          "evalue": "ignored",
          "traceback": [
            "\u001b[0;31m---------------------------------------------------------------------------\u001b[0m",
            "\u001b[0;31mNameError\u001b[0m                                 Traceback (most recent call last)",
            "\u001b[0;32m<ipython-input-25-92406c357010>\u001b[0m in \u001b[0;36m<module>\u001b[0;34m()\u001b[0m\n\u001b[1;32m      1\u001b[0m \u001b[0;32mwith\u001b[0m \u001b[0mopen\u001b[0m\u001b[0;34m(\u001b[0m\u001b[0;34mf'{main_dir}/logs/{OPEN_MODEL}.history.pkl'\u001b[0m\u001b[0;34m,\u001b[0m \u001b[0;34m'wb'\u001b[0m\u001b[0;34m)\u001b[0m \u001b[0;32mas\u001b[0m \u001b[0moutput\u001b[0m\u001b[0;34m:\u001b[0m  \u001b[0;31m# Overwrites any existing file.\u001b[0m\u001b[0;34m\u001b[0m\u001b[0;34m\u001b[0m\u001b[0m\n\u001b[0;32m----> 2\u001b[0;31m         \u001b[0mpickle\u001b[0m\u001b[0;34m.\u001b[0m\u001b[0mdump\u001b[0m\u001b[0;34m(\u001b[0m\u001b[0mhistory\u001b[0m\u001b[0;34m.\u001b[0m\u001b[0mhistory\u001b[0m\u001b[0;34m,\u001b[0m \u001b[0moutput\u001b[0m\u001b[0;34m,\u001b[0m \u001b[0mpickle\u001b[0m\u001b[0;34m.\u001b[0m\u001b[0mHIGHEST_PROTOCOL\u001b[0m\u001b[0;34m)\u001b[0m\u001b[0;34m\u001b[0m\u001b[0;34m\u001b[0m\u001b[0m\n\u001b[0m",
            "\u001b[0;31mNameError\u001b[0m: name 'history' is not defined"
          ]
        }
      ]
    },
    {
      "cell_type": "markdown",
      "metadata": {
        "id": "L7e5QuB-b9bz",
        "colab_type": "text"
      },
      "source": [
        "### Load training history from file"
      ]
    },
    {
      "cell_type": "code",
      "metadata": {
        "id": "Uk_xDdBAS_cT",
        "colab_type": "code",
        "outputId": "9dd66637-cd26-41e0-a0cc-ad1b05a82870",
        "colab": {
          "base_uri": "https://localhost:8080/",
          "height": 181
        }
      },
      "source": [
        "with open(f'{main_dir}/logs/{OPEN_MODEL}.history.pkl', 'rb') as input:\n",
        "    input_data = pickle.load(input)"
      ],
      "execution_count": 0,
      "outputs": [
        {
          "output_type": "error",
          "ename": "EOFError",
          "evalue": "ignored",
          "traceback": [
            "\u001b[0;31m---------------------------------------------------------------------------\u001b[0m",
            "\u001b[0;31mEOFError\u001b[0m                                  Traceback (most recent call last)",
            "\u001b[0;32m<ipython-input-26-28d95d97900e>\u001b[0m in \u001b[0;36m<module>\u001b[0;34m()\u001b[0m\n\u001b[1;32m      1\u001b[0m \u001b[0;32mwith\u001b[0m \u001b[0mopen\u001b[0m\u001b[0;34m(\u001b[0m\u001b[0;34mf'{main_dir}/logs/{OPEN_MODEL}.history.pkl'\u001b[0m\u001b[0;34m,\u001b[0m \u001b[0;34m'rb'\u001b[0m\u001b[0;34m)\u001b[0m \u001b[0;32mas\u001b[0m \u001b[0minput\u001b[0m\u001b[0;34m:\u001b[0m\u001b[0;34m\u001b[0m\u001b[0;34m\u001b[0m\u001b[0m\n\u001b[0;32m----> 2\u001b[0;31m     \u001b[0minput_data\u001b[0m \u001b[0;34m=\u001b[0m \u001b[0mpickle\u001b[0m\u001b[0;34m.\u001b[0m\u001b[0mload\u001b[0m\u001b[0;34m(\u001b[0m\u001b[0minput\u001b[0m\u001b[0;34m)\u001b[0m\u001b[0;34m\u001b[0m\u001b[0;34m\u001b[0m\u001b[0m\n\u001b[0m",
            "\u001b[0;31mEOFError\u001b[0m: Ran out of input"
          ]
        }
      ]
    },
    {
      "cell_type": "code",
      "metadata": {
        "id": "1llBtBS4CMTO",
        "colab_type": "code",
        "outputId": "7f3a98cf-c128-4eed-d2d1-51f2c9a22cf0",
        "colab": {
          "base_uri": "https://localhost:8080/",
          "height": 181
        }
      },
      "source": [
        "for key, value in input_data.items():\n",
        "  print(key)"
      ],
      "execution_count": 0,
      "outputs": [
        {
          "output_type": "error",
          "ename": "NameError",
          "evalue": "ignored",
          "traceback": [
            "\u001b[0;31m---------------------------------------------------------------------------\u001b[0m",
            "\u001b[0;31mNameError\u001b[0m                                 Traceback (most recent call last)",
            "\u001b[0;32m<ipython-input-27-5b6be3bc420a>\u001b[0m in \u001b[0;36m<module>\u001b[0;34m()\u001b[0m\n\u001b[0;32m----> 1\u001b[0;31m \u001b[0;32mfor\u001b[0m \u001b[0mkey\u001b[0m\u001b[0;34m,\u001b[0m \u001b[0mvalue\u001b[0m \u001b[0;32min\u001b[0m \u001b[0minput_data\u001b[0m\u001b[0;34m.\u001b[0m\u001b[0mitems\u001b[0m\u001b[0;34m(\u001b[0m\u001b[0;34m)\u001b[0m\u001b[0;34m:\u001b[0m\u001b[0;34m\u001b[0m\u001b[0;34m\u001b[0m\u001b[0m\n\u001b[0m\u001b[1;32m      2\u001b[0m   \u001b[0mprint\u001b[0m\u001b[0;34m(\u001b[0m\u001b[0mkey\u001b[0m\u001b[0;34m)\u001b[0m\u001b[0;34m\u001b[0m\u001b[0;34m\u001b[0m\u001b[0m\n",
            "\u001b[0;31mNameError\u001b[0m: name 'input_data' is not defined"
          ]
        }
      ]
    },
    {
      "cell_type": "code",
      "metadata": {
        "id": "Djz17C3J7iGO",
        "colab_type": "code",
        "colab": {}
      },
      "source": [
        "f = open(f\"{toDirectory}/model-logs.txt\", \"a\")\n",
        "f.write(f\"[MODEL] Finished training of the 'unet-ext' model. Epochs: 50, Batch size: 10, \")\n",
        "f.close()"
      ],
      "execution_count": 0,
      "outputs": []
    },
    {
      "cell_type": "markdown",
      "metadata": {
        "id": "pxUM-5jhoXg5",
        "colab_type": "text"
      },
      "source": [
        "## Load and Evaluate Model"
      ]
    },
    {
      "cell_type": "markdown",
      "metadata": {
        "id": "soXD1vs2CwIJ",
        "colab_type": "text"
      },
      "source": [
        "#### Plot training STATISTICS"
      ]
    },
    {
      "cell_type": "code",
      "metadata": {
        "id": "K6W0rpInr9PC",
        "colab_type": "code",
        "colab": {}
      },
      "source": [
        "fig, axs = plt.subplots(1, 3, figsize=(15, 5))\n",
        "axs[0].plot(input_data[\"dice_coef\"])\n",
        "axs[0].plot(input_data[\"val_dice_coef\"])\n",
        "axs[0].set_title(\"Dice Coefficient\")\n",
        "axs[1].plot(input_data[\"acc\"])\n",
        "axs[1].plot(input_data[\"val_acc\"])\n",
        "axs[1].set_title(\"Accuracy\")\n",
        "axs[2].plot(input_data[\"loss\"])\n",
        "axs[2].plot(input_data[\"val_loss\"])\n",
        "axs[2].set_title(\"Binary crossentropy\")\n",
        "fig.suptitle('Training Evaluation')\n",
        "plt.figlegend([\"Training\", \"Validation\"], loc = 'lower center', ncol=5, labelspacing=0. )"
      ],
      "execution_count": 0,
      "outputs": []
    },
    {
      "cell_type": "markdown",
      "metadata": {
        "id": "r6mX-gWMwC09",
        "colab_type": "text"
      },
      "source": [
        "### Load Model - predict evaluation data"
      ]
    },
    {
      "cell_type": "code",
      "metadata": {
        "id": "u3eJ3n-swHU-",
        "colab_type": "code",
        "outputId": "209b7f0c-869a-42c6-8f33-eff6705332ab",
        "colab": {
          "base_uri": "https://localhost:8080/",
          "height": 156
        }
      },
      "source": [
        "[model, _] = u_net((COLUMNS, ROWS, channels), distance_transform=False)\n",
        "model.load_weights(f'{main_dir}/models/checkpoint/{OPEN_MODEL}.hdf5')\n",
        "print(f\"Model: {OPEN_MODEL} successfuly loaded.\")"
      ],
      "execution_count": 0,
      "outputs": [
        {
          "output_type": "stream",
          "text": [
            "WARNING:tensorflow:From /usr/local/lib/python3.6/dist-packages/tensorflow_core/python/ops/resource_variable_ops.py:1630: calling BaseResourceVariable.__init__ (from tensorflow.python.ops.resource_variable_ops) with constraint is deprecated and will be removed in a future version.\n",
            "Instructions for updating:\n",
            "If using Keras pass *_constraint arguments to layers.\n",
            "WARNING:tensorflow:From /usr/local/lib/python3.6/dist-packages/tensorflow_core/python/ops/nn_impl.py:183: where (from tensorflow.python.ops.array_ops) is deprecated and will be removed in a future version.\n",
            "Instructions for updating:\n",
            "Use tf.where in 2.0, which has the same broadcast rule as np.where\n",
            "Model: unet-REG-50-CROSSENTROPY-AUGM-corr(ckpt) successfuly loaded.\n"
          ],
          "name": "stdout"
        }
      ]
    },
    {
      "cell_type": "code",
      "metadata": {
        "id": "2uRy2deIG2A4",
        "colab_type": "code",
        "colab": {}
      },
      "source": [
        "from medpy.metric import dc, ravd, assd"
      ],
      "execution_count": 0,
      "outputs": []
    },
    {
      "cell_type": "code",
      "metadata": {
        "id": "usd501oSxJa2",
        "colab_type": "code",
        "outputId": "d66ba707-cf28-4c7a-cb7e-5d774a7afd37",
        "colab": {
          "base_uri": "https://localhost:8080/",
          "height": 68
        }
      },
      "source": [
        "test_x, test_y = np.zeros((test_ind.shape[0], ROWS, COLUMNS, 1)), np.zeros((test_ind.shape[0], ROWS, COLUMNS, 1))\n",
        "for i, position in tqdm(enumerate(test_ind)):\n",
        "  test_x[i] = np.nan_to_num(x_train[position].reshape((ROWS, COLUMNS, 1)))\n",
        "  test_y[i] = np.nan_to_num(y_train[position].reshape((ROWS, COLUMNS, 1)))\n",
        "print(test_x.shape)\n",
        "print(test_y.shape)"
      ],
      "execution_count": 0,
      "outputs": [
        {
          "output_type": "stream",
          "text": [
            "572it [00:03, 166.36it/s]"
          ],
          "name": "stderr"
        },
        {
          "output_type": "stream",
          "text": [
            "(572, 512, 512, 1)\n",
            "(572, 512, 512, 1)\n"
          ],
          "name": "stdout"
        },
        {
          "output_type": "stream",
          "text": [
            "\n"
          ],
          "name": "stderr"
        }
      ]
    },
    {
      "cell_type": "code",
      "metadata": {
        "id": "sfWj1yzavht9",
        "colab_type": "code",
        "outputId": "2c354b88-3c97-474a-8488-13199131d30f",
        "colab": {
          "base_uri": "https://localhost:8080/",
          "height": 51
        }
      },
      "source": [
        "test_pred = model.predict(test_x, batch_size=6, verbose=1)\n",
        "print(test_pred.shape)"
      ],
      "execution_count": 0,
      "outputs": [
        {
          "output_type": "stream",
          "text": [
            "572/572 [==============================] - 10s 17ms/sample\n",
            "(572, 512, 512, 1)\n"
          ],
          "name": "stdout"
        }
      ]
    },
    {
      "cell_type": "code",
      "metadata": {
        "id": "Cd8Rp44GbWc0",
        "colab_type": "code",
        "colab": {}
      },
      "source": [
        "from sklearn.metrics import accuracy_score, precision_score, recall_score, roc_curve, auc\n",
        "from sklearn.preprocessing import binarize"
      ],
      "execution_count": 0,
      "outputs": []
    },
    {
      "cell_type": "code",
      "metadata": {
        "id": "_u5x23md4yZ-",
        "colab_type": "code",
        "colab": {}
      },
      "source": [
        "y = test_y.ravel().astype(np.int)\n",
        "score = test_pred.ravel()\n",
        "fpr, tpr, thresholds = roc_curve(y, score)\n",
        "roc_auc = auc(fpr, tpr)"
      ],
      "execution_count": 0,
      "outputs": []
    },
    {
      "cell_type": "code",
      "metadata": {
        "id": "j6cXQCv9DPpY",
        "colab_type": "code",
        "outputId": "1add058f-6989-4432-adb1-b219faa95d52",
        "colab": {
          "base_uri": "https://localhost:8080/",
          "height": 34
        }
      },
      "source": [
        "y.min(), y.max()"
      ],
      "execution_count": 0,
      "outputs": [
        {
          "output_type": "execute_result",
          "data": {
            "text/plain": [
              "(0.0, 1.0)"
            ]
          },
          "metadata": {
            "tags": []
          },
          "execution_count": 64
        }
      ]
    },
    {
      "cell_type": "code",
      "metadata": {
        "id": "NUb5ScXl_NBA",
        "colab_type": "code",
        "outputId": "a6f5468b-2824-4284-b3a5-668f1510032a",
        "colab": {
          "base_uri": "https://localhost:8080/",
          "height": 232
        }
      },
      "source": [
        "fig, ax = plt.subplots(1,1)\n",
        "ax.plot(fpr, tpr, label='ROC curve (area = %0.2f)' % roc_auc)\n",
        "ax.plot([0, 1], [0, 1], 'k--')\n",
        "ax.set_xlim([-0.05, 1.0])\n",
        "ax.set_ylim([0.0, 1.05])\n",
        "ax.set_xlabel('False Positive Rate')\n",
        "ax.set_ylabel('True Positive Rate')\n",
        "ax.set_title('Receiver operating characteristic example')\n",
        "ax.legend(loc=\"lower right\")"
      ],
      "execution_count": 0,
      "outputs": [
        {
          "output_type": "error",
          "ename": "NameError",
          "evalue": "ignored",
          "traceback": [
            "\u001b[0;31m---------------------------------------------------------------------------\u001b[0m",
            "\u001b[0;31mNameError\u001b[0m                                 Traceback (most recent call last)",
            "\u001b[0;32m<ipython-input-1-41a8f407c6f6>\u001b[0m in \u001b[0;36m<module>\u001b[0;34m()\u001b[0m\n\u001b[0;32m----> 1\u001b[0;31m \u001b[0mfig\u001b[0m\u001b[0;34m,\u001b[0m \u001b[0max\u001b[0m \u001b[0;34m=\u001b[0m \u001b[0mplt\u001b[0m\u001b[0;34m.\u001b[0m\u001b[0msubplots\u001b[0m\u001b[0;34m(\u001b[0m\u001b[0;36m1\u001b[0m\u001b[0;34m,\u001b[0m\u001b[0;36m1\u001b[0m\u001b[0;34m)\u001b[0m\u001b[0;34m\u001b[0m\u001b[0;34m\u001b[0m\u001b[0m\n\u001b[0m\u001b[1;32m      2\u001b[0m \u001b[0max\u001b[0m\u001b[0;34m.\u001b[0m\u001b[0mplot\u001b[0m\u001b[0;34m(\u001b[0m\u001b[0mfpr\u001b[0m\u001b[0;34m,\u001b[0m \u001b[0mtpr\u001b[0m\u001b[0;34m,\u001b[0m \u001b[0mlabel\u001b[0m\u001b[0;34m=\u001b[0m\u001b[0;34m'ROC curve (area = %0.2f)'\u001b[0m \u001b[0;34m%\u001b[0m \u001b[0mroc_auc\u001b[0m\u001b[0;34m)\u001b[0m\u001b[0;34m\u001b[0m\u001b[0;34m\u001b[0m\u001b[0m\n\u001b[1;32m      3\u001b[0m \u001b[0max\u001b[0m\u001b[0;34m.\u001b[0m\u001b[0mplot\u001b[0m\u001b[0;34m(\u001b[0m\u001b[0;34m[\u001b[0m\u001b[0;36m0\u001b[0m\u001b[0;34m,\u001b[0m \u001b[0;36m1\u001b[0m\u001b[0;34m]\u001b[0m\u001b[0;34m,\u001b[0m \u001b[0;34m[\u001b[0m\u001b[0;36m0\u001b[0m\u001b[0;34m,\u001b[0m \u001b[0;36m1\u001b[0m\u001b[0;34m]\u001b[0m\u001b[0;34m,\u001b[0m \u001b[0;34m'k--'\u001b[0m\u001b[0;34m)\u001b[0m\u001b[0;34m\u001b[0m\u001b[0;34m\u001b[0m\u001b[0m\n\u001b[1;32m      4\u001b[0m \u001b[0max\u001b[0m\u001b[0;34m.\u001b[0m\u001b[0mset_xlim\u001b[0m\u001b[0;34m(\u001b[0m\u001b[0;34m[\u001b[0m\u001b[0;34m-\u001b[0m\u001b[0;36m0.05\u001b[0m\u001b[0;34m,\u001b[0m \u001b[0;36m1.0\u001b[0m\u001b[0;34m]\u001b[0m\u001b[0;34m)\u001b[0m\u001b[0;34m\u001b[0m\u001b[0;34m\u001b[0m\u001b[0m\n\u001b[1;32m      5\u001b[0m \u001b[0max\u001b[0m\u001b[0;34m.\u001b[0m\u001b[0mset_ylim\u001b[0m\u001b[0;34m(\u001b[0m\u001b[0;34m[\u001b[0m\u001b[0;36m0.0\u001b[0m\u001b[0;34m,\u001b[0m \u001b[0;36m1.05\u001b[0m\u001b[0;34m]\u001b[0m\u001b[0;34m)\u001b[0m\u001b[0;34m\u001b[0m\u001b[0;34m\u001b[0m\u001b[0m\n",
            "\u001b[0;31mNameError\u001b[0m: name 'plt' is not defined"
          ]
        }
      ]
    },
    {
      "cell_type": "code",
      "metadata": {
        "id": "_XO0740Yb5yt",
        "colab_type": "code",
        "colab": {}
      },
      "source": [
        "test_pred_r = np.round(test_pred)"
      ],
      "execution_count": 0,
      "outputs": []
    },
    {
      "cell_type": "code",
      "metadata": {
        "id": "aJbKExQwcG0l",
        "colab_type": "code",
        "outputId": "00d0bd47-ca74-462f-f7b9-ffe1b2905858",
        "colab": {
          "base_uri": "https://localhost:8080/",
          "height": 198
        }
      },
      "source": [
        "print('DC', dc(test_y, test_pred_r))\n",
        "print('RAVD', ravd(test_y, test_pred_r))\n",
        "print('ASSD', assd(test_y, test_pred_r))"
      ],
      "execution_count": 0,
      "outputs": [
        {
          "output_type": "error",
          "ename": "NameError",
          "evalue": "ignored",
          "traceback": [
            "\u001b[0;31m---------------------------------------------------------------------------\u001b[0m",
            "\u001b[0;31mNameError\u001b[0m                                 Traceback (most recent call last)",
            "\u001b[0;32m<ipython-input-68-ee5d9d640179>\u001b[0m in \u001b[0;36m<module>\u001b[0;34m()\u001b[0m\n\u001b[0;32m----> 1\u001b[0;31m \u001b[0mprint\u001b[0m\u001b[0;34m(\u001b[0m\u001b[0;34m'DC'\u001b[0m\u001b[0;34m,\u001b[0m \u001b[0mdc\u001b[0m\u001b[0;34m(\u001b[0m\u001b[0mtest_y\u001b[0m\u001b[0;34m,\u001b[0m \u001b[0mtest_pred_r\u001b[0m\u001b[0;34m)\u001b[0m\u001b[0;34m)\u001b[0m\u001b[0;34m\u001b[0m\u001b[0;34m\u001b[0m\u001b[0m\n\u001b[0m\u001b[1;32m      2\u001b[0m \u001b[0mprint\u001b[0m\u001b[0;34m(\u001b[0m\u001b[0;34m'RAVD'\u001b[0m\u001b[0;34m,\u001b[0m \u001b[0mravd\u001b[0m\u001b[0;34m(\u001b[0m\u001b[0mtest_y\u001b[0m\u001b[0;34m,\u001b[0m \u001b[0mtest_pred_r\u001b[0m\u001b[0;34m)\u001b[0m\u001b[0;34m)\u001b[0m\u001b[0;34m\u001b[0m\u001b[0;34m\u001b[0m\u001b[0m\n\u001b[1;32m      3\u001b[0m \u001b[0mprint\u001b[0m\u001b[0;34m(\u001b[0m\u001b[0;34m'ASSD'\u001b[0m\u001b[0;34m,\u001b[0m \u001b[0massd\u001b[0m\u001b[0;34m(\u001b[0m\u001b[0mtest_y\u001b[0m\u001b[0;34m,\u001b[0m \u001b[0mtest_pred_r\u001b[0m\u001b[0;34m)\u001b[0m\u001b[0;34m)\u001b[0m\u001b[0;34m\u001b[0m\u001b[0;34m\u001b[0m\u001b[0m\n",
            "\u001b[0;31mNameError\u001b[0m: name 'test_pred_r' is not defined"
          ]
        }
      ]
    },
    {
      "cell_type": "code",
      "metadata": {
        "id": "6Sdb0qhs8HKJ",
        "colab_type": "code",
        "colab": {}
      },
      "source": [
        ""
      ],
      "execution_count": 0,
      "outputs": []
    }
  ]
}